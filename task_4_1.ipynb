{
 "cells": [
  {
   "cell_type": "code",
   "execution_count": 1,
   "metadata": {
    "collapsed": true
   },
   "outputs": [],
   "source": [
    "import numpy as np\n",
    "from scipy import stats"
   ]
  },
  {
   "cell_type": "markdown",
   "source": [
    "### Задача 1.\n",
    "\n",
    "#### Коробки с шоколадом упаковываются автоматически. Их средняя масса равна 1.06 кг.\n",
    "#### Известно, что 5% коробок имеют массу, меньшую 1 кг. Найдите среднее квадратическое отклонение массы коробки.\n",
    "#### Подсказка:\n",
    "#### 1) Можно считать, что распределение массы коробки нормальное.\n",
    "#### 2) Найдите такое значение scale, для которого значение cdf(x=1, loc=1.06, scale=scale) близко к 0.05.\n",
    "#### Необходимая точность: 10 ** (-10)."
   ],
   "metadata": {
    "collapsed": false,
    "pycharm": {
     "name": "#%% md\n"
    }
   }
  },
  {
   "cell_type": "code",
   "execution_count": 2,
   "outputs": [],
   "source": [
    "m = 1.06 # средняя масса\n",
    "x = 1 # масса в кг\n",
    "scale = 0 # для цикла while\n",
    "cdf = 0 # для цикла while\n",
    "cdf_5 = 0.05 # условие того, что 5% коробок имеют массу, меньшую 1 кг\n",
    "accuracy = 10 ** -10 # необходимая точность"
   ],
   "metadata": {
    "collapsed": false,
    "pycharm": {
     "name": "#%%\n"
    }
   }
  },
  {
   "cell_type": "code",
   "execution_count": 3,
   "outputs": [
    {
     "name": "stdout",
     "output_type": "stream",
     "text": [
      "Среднее квадратическое отклонение массы коробки = 0.03647741, если значение cdf близко к 0.05\n"
     ]
    }
   ],
   "source": [
    "while cdf < cdf_5 - accuracy and cdf < cdf_5 + accuracy:\n",
    "    scale += 10 ** -8\n",
    "    cdf = stats.norm.cdf(x=x, loc=m, scale=scale)\n",
    "\n",
    "print(f'Среднее квадратическое отклонение массы коробки = {round(scale, 8)}, если значение cdf близко к {round(cdf, 2)}')"
   ],
   "metadata": {
    "collapsed": false,
    "pycharm": {
     "name": "#%%\n"
    }
   }
  },
  {
   "cell_type": "markdown",
   "source": [
    "### Задача 2.\n",
    "\n",
    "#### В условиях предыдущей задачи найдите долю коробок, имеющих массу больше 1.1 кг."
   ],
   "metadata": {
    "collapsed": false,
    "pycharm": {
     "name": "#%% md\n"
    }
   }
  },
  {
   "cell_type": "code",
   "execution_count": 4,
   "outputs": [
    {
     "data": {
      "text/plain": "0.1364149"
     },
     "execution_count": 4,
     "metadata": {},
     "output_type": "execute_result"
    }
   ],
   "source": [
    "# функцию stats.norm.cdf с x = 1.1 нужно вычесть от 1, так как ищем долю коробок, имеющих массу больше заданной\n",
    "\n",
    "round(1 - stats.norm.cdf(x=1.1, loc=m, scale=scale), 8)"
   ],
   "metadata": {
    "collapsed": false,
    "pycharm": {
     "name": "#%%\n"
    }
   }
  },
  {
   "cell_type": "markdown",
   "source": [
    "### Задача 3.\n",
    "\n",
    "#### Коробка содержит 30 конфет. Известно, что масса каждой конфеты распределена равномерно в промежутке от 12 до 14 граммов.\n",
    "#### Используя центральную предельную теорему, найти вероятность, что масса всей коробки будет меньше 390 граммов.\n",
    "#### Массой самой коробки можно пренебречь.\n",
    "#### Подсказка:\n",
    "#### Для равномерного распределения в промежутке [a, b]:\n",
    "#### 1) математическое ожидание равно (a + b) / 2,\n",
    "#### 2) дисперсия равна (b - a)^2 / 12."
   ],
   "metadata": {
    "collapsed": false,
    "pycharm": {
     "name": "#%% md\n"
    }
   }
  },
  {
   "cell_type": "code",
   "execution_count": 5,
   "outputs": [
    {
     "name": "stdout",
     "output_type": "stream",
     "text": [
      "Для равномерного распределения в промежутке [a, b]:\n",
      "Математическое ожидание = 13.0\n",
      "Дисперсия = 0.3333333333333333\n"
     ]
    }
   ],
   "source": [
    "n = 30 # количество конфет\n",
    "a = 12 # левая граница, включается\n",
    "b = 14 # правая граница, включается\n",
    "m = (a + b) / 2 # математическое ожидание\n",
    "d = (b - a) ** 2 / 12 # дисперсия\n",
    "print(f'Для равномерного распределения в промежутке [a, b]:\\nМатематическое ожидание = {m}\\nДисперсия = {d}')"
   ],
   "metadata": {
    "collapsed": false,
    "pycharm": {
     "name": "#%%\n"
    }
   }
  },
  {
   "cell_type": "code",
   "execution_count": 6,
   "outputs": [
    {
     "name": "stdout",
     "output_type": "stream",
     "text": [
      "mu = 390.0\n",
      "sigma^2 = 10.0\n"
     ]
    }
   ],
   "source": [
    "# согласно центральной предельной теореме, чем больше n, тем ближе распределение случайной величины к нормальному распределению\n",
    "# параметры: mu = n * m, sigma^2 = n * d\n",
    "# воспользуемся этими формулами\n",
    "\n",
    "mu = n * m\n",
    "sigma_2 = n * d\n",
    "print(f'mu = {mu}\\nsigma^2 = {sigma_2}')"
   ],
   "metadata": {
    "collapsed": false,
    "pycharm": {
     "name": "#%%\n"
    }
   }
  },
  {
   "cell_type": "code",
   "execution_count": 7,
   "outputs": [
    {
     "data": {
      "text/plain": "0.5"
     },
     "execution_count": 7,
     "metadata": {},
     "output_type": "execute_result"
    }
   ],
   "source": [
    "# при помощи функции stats.norm.cdf найдём вероятность, что масса всей коробки будет меньше 390 граммов\n",
    "# из переменной sigma_2 посчитаем корень, так как в функции используется среднее квадратичное отклонение (сигма без квадрата)\n",
    "\n",
    "stats.norm.cdf(x=390, loc=mu, scale=np.sqrt(sigma_2))"
   ],
   "metadata": {
    "collapsed": false,
    "pycharm": {
     "name": "#%%\n"
    }
   }
  },
  {
   "cell_type": "markdown",
   "source": [
    "### Задача 4.\n",
    "\n",
    "#### В условиях задачи 3 найдите вероятность того, что масса всей коробки будет больше 395 граммов."
   ],
   "metadata": {
    "collapsed": false,
    "pycharm": {
     "name": "#%% md\n"
    }
   }
  },
  {
   "cell_type": "code",
   "execution_count": 8,
   "outputs": [
    {
     "data": {
      "text/plain": "0.05692315"
     },
     "execution_count": 8,
     "metadata": {},
     "output_type": "execute_result"
    }
   ],
   "source": [
    "# функцию stats.norm.cdf с x = 395 нужно вычесть от 1, так как ищем вероятность того, что масса всей коробки больше заданной\n",
    "\n",
    "round(1 - stats.norm.cdf(x=395, loc=mu, scale=np.sqrt(sigma_2)), 8)"
   ],
   "metadata": {
    "collapsed": false,
    "pycharm": {
     "name": "#%%\n"
    }
   }
  },
  {
   "cell_type": "markdown",
   "source": [
    "### Задача 5.\n",
    "\n",
    "#### В условиях задачи 3 найдите вероятность того, что масса всей коробки будет от 380 до 400 граммов."
   ],
   "metadata": {
    "collapsed": false,
    "pycharm": {
     "name": "#%% md\n"
    }
   }
  },
  {
   "cell_type": "code",
   "execution_count": 9,
   "outputs": [
    {
     "data": {
      "text/plain": "0.9984346"
     },
     "execution_count": 9,
     "metadata": {},
     "output_type": "execute_result"
    }
   ],
   "source": [
    "# вероятность попасть в интервал [a, b] считается по формуле F(b) - F(a), воспользуемся функцией stats.norm.cdf\n",
    "\n",
    "round(stats.norm.cdf(x=400, loc=mu, scale=np.sqrt(sigma_2)) - stats.norm.cdf(x=380, loc=mu, scale=np.sqrt(sigma_2)), 8)"
   ],
   "metadata": {
    "collapsed": false,
    "pycharm": {
     "name": "#%%\n"
    }
   }
  },
  {
   "cell_type": "code",
   "execution_count": 9,
   "outputs": [],
   "source": [],
   "metadata": {
    "collapsed": false,
    "pycharm": {
     "name": "#%%\n"
    }
   }
  }
 ],
 "metadata": {
  "kernelspec": {
   "display_name": "Python 3",
   "language": "python",
   "name": "python3"
  },
  "language_info": {
   "codemirror_mode": {
    "name": "ipython",
    "version": 2
   },
   "file_extension": ".py",
   "mimetype": "text/x-python",
   "name": "python",
   "nbconvert_exporter": "python",
   "pygments_lexer": "ipython2",
   "version": "2.7.6"
  }
 },
 "nbformat": 4,
 "nbformat_minor": 0
}