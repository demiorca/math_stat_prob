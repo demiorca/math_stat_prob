{
 "cells": [
  {
   "cell_type": "code",
   "execution_count": 1,
   "metadata": {
    "collapsed": true
   },
   "outputs": [],
   "source": [
    "import numpy as np\n",
    "import pandas as pd\n",
    "from scipy import stats"
   ]
  },
  {
   "cell_type": "markdown",
   "source": [
    "### Задача 1.\n",
    "\n",
    "#### Используя данные о хоккеистах, проверьте, является ли среди хоккеистов из Финляндии, Норвегии и Дании значимым отличие:\n",
    "#### 1) роста\n",
    "#### 2) BMI"
   ],
   "metadata": {
    "collapsed": false,
    "pycharm": {
     "name": "#%% md\n"
    }
   }
  },
  {
   "cell_type": "code",
   "execution_count": 2,
   "outputs": [
    {
     "data": {
      "text/plain": "   year country  no                 name position side  height  weight  \\\n0  2001     RUS  10     tverdovsky oleg         D    L     185    84.0   \n1  2001     RUS   2   vichnevsky vitali         D    L     188    86.0   \n2  2001     RUS  26  petrochinin evgeni         D    L     182    95.0   \n3  2001     RUS  28     zhdan alexander         D    R     178    85.0   \n4  2001     RUS  32     orekhovsky oleg         D    R     175    88.0   \n\n        birth                     club        age  cohort        bmi  \n0  1976-05-18    anaheim mighty ducks   24.952772    1976  24.543462  \n1  1980-03-18    anaheim mighty ducks   21.119781    1980  24.332277  \n2  1976-02-07  severstal cherepovetal   25.229295    1976  28.680111  \n3  1971-08-28           ak bars kazan   29.675565    1971  26.827421  \n4  1977-11-03           dynamo moscow   23.490760    1977  28.734694  ",
      "text/html": "<div>\n<style scoped>\n    .dataframe tbody tr th:only-of-type {\n        vertical-align: middle;\n    }\n\n    .dataframe tbody tr th {\n        vertical-align: top;\n    }\n\n    .dataframe thead th {\n        text-align: right;\n    }\n</style>\n<table border=\"1\" class=\"dataframe\">\n  <thead>\n    <tr style=\"text-align: right;\">\n      <th></th>\n      <th>year</th>\n      <th>country</th>\n      <th>no</th>\n      <th>name</th>\n      <th>position</th>\n      <th>side</th>\n      <th>height</th>\n      <th>weight</th>\n      <th>birth</th>\n      <th>club</th>\n      <th>age</th>\n      <th>cohort</th>\n      <th>bmi</th>\n    </tr>\n  </thead>\n  <tbody>\n    <tr>\n      <th>0</th>\n      <td>2001</td>\n      <td>RUS</td>\n      <td>10</td>\n      <td>tverdovsky oleg</td>\n      <td>D</td>\n      <td>L</td>\n      <td>185</td>\n      <td>84.0</td>\n      <td>1976-05-18</td>\n      <td>anaheim mighty ducks</td>\n      <td>24.952772</td>\n      <td>1976</td>\n      <td>24.543462</td>\n    </tr>\n    <tr>\n      <th>1</th>\n      <td>2001</td>\n      <td>RUS</td>\n      <td>2</td>\n      <td>vichnevsky vitali</td>\n      <td>D</td>\n      <td>L</td>\n      <td>188</td>\n      <td>86.0</td>\n      <td>1980-03-18</td>\n      <td>anaheim mighty ducks</td>\n      <td>21.119781</td>\n      <td>1980</td>\n      <td>24.332277</td>\n    </tr>\n    <tr>\n      <th>2</th>\n      <td>2001</td>\n      <td>RUS</td>\n      <td>26</td>\n      <td>petrochinin evgeni</td>\n      <td>D</td>\n      <td>L</td>\n      <td>182</td>\n      <td>95.0</td>\n      <td>1976-02-07</td>\n      <td>severstal cherepovetal</td>\n      <td>25.229295</td>\n      <td>1976</td>\n      <td>28.680111</td>\n    </tr>\n    <tr>\n      <th>3</th>\n      <td>2001</td>\n      <td>RUS</td>\n      <td>28</td>\n      <td>zhdan alexander</td>\n      <td>D</td>\n      <td>R</td>\n      <td>178</td>\n      <td>85.0</td>\n      <td>1971-08-28</td>\n      <td>ak bars kazan</td>\n      <td>29.675565</td>\n      <td>1971</td>\n      <td>26.827421</td>\n    </tr>\n    <tr>\n      <th>4</th>\n      <td>2001</td>\n      <td>RUS</td>\n      <td>32</td>\n      <td>orekhovsky oleg</td>\n      <td>D</td>\n      <td>R</td>\n      <td>175</td>\n      <td>88.0</td>\n      <td>1977-11-03</td>\n      <td>dynamo moscow</td>\n      <td>23.490760</td>\n      <td>1977</td>\n      <td>28.734694</td>\n    </tr>\n  </tbody>\n</table>\n</div>"
     },
     "execution_count": 2,
     "metadata": {},
     "output_type": "execute_result"
    }
   ],
   "source": [
    "df = pd.read_csv('hockey_players.csv', encoding='ISO-8859-1')\n",
    "\n",
    "df.head()"
   ],
   "metadata": {
    "collapsed": false,
    "pycharm": {
     "name": "#%%\n"
    }
   }
  },
  {
   "cell_type": "code",
   "execution_count": 3,
   "outputs": [],
   "source": [
    "# в этой задаче для проверки значимого отличия подойдёт однофакторный дисперсионный анализ\n",
    "# создадим функцию для подсчёта значения статистики однофакторного дисперсионного анализа:\n",
    "\n",
    "def anova(*y_):\n",
    "    y = np.concatenate([*y_])\n",
    "    y_mean = y.mean()\n",
    "\n",
    "    SS_b = sum((y_i.mean() - y_mean) ** 2 * y_i.size for y_i in y_)\n",
    "    SS_w = sum(((y_i - y_i.mean()) ** 2).sum() for y_i in y_)\n",
    "\n",
    "    k = len(y_)\n",
    "    n = y.size\n",
    "\n",
    "    k1 = k - 1\n",
    "    k2 = n - k\n",
    "\n",
    "    sigma2_b = SS_b / k1\n",
    "    sigma2_w = SS_w / k2\n",
    "\n",
    "    F = sigma2_b / sigma2_w\n",
    "\n",
    "    return F"
   ],
   "metadata": {
    "collapsed": false,
    "pycharm": {
     "name": "#%%\n"
    }
   }
  },
  {
   "cell_type": "code",
   "execution_count": 4,
   "outputs": [
    {
     "data": {
      "text/plain": "array(['RUS', 'AUT', 'BLR', 'CAN', 'CZE', 'FIN', 'GER', 'ITA', 'JPN',\n       'LAT', 'NOR', 'SUI', 'SVK', 'SWE', 'UKR', 'USA', 'POL', 'SLO',\n       'DEN', 'FRA', 'KAZ', 'HUN'], dtype=object)"
     },
     "execution_count": 4,
     "metadata": {},
     "output_type": "execute_result"
    }
   ],
   "source": [
    "# посмотрим все уникальные значения стран в датасете:\n",
    "\n",
    "df['country'].unique()"
   ],
   "metadata": {
    "collapsed": false,
    "pycharm": {
     "name": "#%%\n"
    }
   }
  },
  {
   "cell_type": "code",
   "execution_count": 5,
   "outputs": [
    {
     "name": "stdout",
     "output_type": "stream",
     "text": [
      "FIN есть в списке стран\n",
      "NOR есть в списке стран\n",
      "DEN есть в списке стран\n"
     ]
    }
   ],
   "source": [
    "countries = ['FIN', 'NOR', 'DEN'] # отбираем список необходимых стран\n",
    "\n",
    "# проверяем их наличие:\n",
    "\n",
    "for c in countries:\n",
    "    if c in df['country'].values:\n",
    "        print(f'{c} есть в списке стран')\n",
    "    else:\n",
    "        print(f'{c} отсутствует в списке стран')"
   ],
   "metadata": {
    "collapsed": false,
    "pycharm": {
     "name": "#%%\n"
    }
   }
  },
  {
   "cell_type": "markdown",
   "source": [
    "### 1) Рост"
   ],
   "metadata": {
    "collapsed": false,
    "pycharm": {
     "name": "#%% md\n"
    }
   }
  },
  {
   "cell_type": "code",
   "execution_count": 6,
   "outputs": [
    {
     "data": {
      "text/plain": "4.273207343917213"
     },
     "execution_count": 6,
     "metadata": {},
     "output_type": "execute_result"
    }
   ],
   "source": [
    "# отбираем все Y роста по странам и считаем значение статистики:\n",
    "\n",
    "y_height = [df.loc[df['country'] == country, 'height'] for country in countries]\n",
    "\n",
    "F = anova(*y_height)\n",
    "\n",
    "F"
   ],
   "metadata": {
    "collapsed": false,
    "pycharm": {
     "name": "#%%\n"
    }
   }
  },
  {
   "cell_type": "code",
   "execution_count": 7,
   "outputs": [
    {
     "data": {
      "text/plain": "3.0045220661840073"
     },
     "execution_count": 7,
     "metadata": {},
     "output_type": "execute_result"
    }
   ],
   "source": [
    "# найдём критическую область:\n",
    "\n",
    "k = len(countries)\n",
    "n = sum(y.size for y in y_height)\n",
    "\n",
    "k1 = k - 1\n",
    "k2 = n - k\n",
    "\n",
    "alpha = 0.05\n",
    "\n",
    "t = stats.f.ppf(1 - alpha, k1, k2)\n",
    "\n",
    "t"
   ],
   "metadata": {
    "collapsed": false,
    "pycharm": {
     "name": "#%%\n"
    }
   }
  },
  {
   "cell_type": "code",
   "execution_count": 8,
   "outputs": [
    {
     "data": {
      "text/plain": "F_onewayResult(statistic=4.273207343917114, pvalue=0.014186614738624594)"
     },
     "execution_count": 8,
     "metadata": {},
     "output_type": "execute_result"
    }
   ],
   "source": [
    "# проверим P-значение при помощи функции f_oneway из модуля stats (и сравним значение статистики):\n",
    "\n",
    "stats.f_oneway(*y_height)"
   ],
   "metadata": {
    "collapsed": false,
    "pycharm": {
     "name": "#%%\n"
    }
   }
  },
  {
   "cell_type": "code",
   "execution_count": 9,
   "outputs": [],
   "source": [
    "# значение статистики попало в критическую область, а P-значение меньше, чем alpha\n",
    "# таким образом, гипотезу H0 можно отвергнуть, принимаем H1\n",
    "# соответственно, у роста хоккеистов из Финляндии, Норвегии и Дании есть значимое отличие"
   ],
   "metadata": {
    "collapsed": false,
    "pycharm": {
     "name": "#%%\n"
    }
   }
  },
  {
   "cell_type": "markdown",
   "source": [
    "### 2) BMI"
   ],
   "metadata": {
    "collapsed": false,
    "pycharm": {
     "name": "#%% md\n"
    }
   }
  },
  {
   "cell_type": "code",
   "execution_count": 10,
   "outputs": [
    {
     "data": {
      "text/plain": "36.05816727743814"
     },
     "execution_count": 10,
     "metadata": {},
     "output_type": "execute_result"
    }
   ],
   "source": [
    "# отбираем все Y BMI по странам и считаем значение статистики:\n",
    "\n",
    "y_bmi = [df.loc[df['country'] == country, 'bmi'] for country in countries]\n",
    "\n",
    "F = anova(*y_bmi)\n",
    "\n",
    "F"
   ],
   "metadata": {
    "collapsed": false,
    "pycharm": {
     "name": "#%%\n"
    }
   }
  },
  {
   "cell_type": "code",
   "source": [
    "# найдём критическую область:\n",
    "\n",
    "k = len(countries)\n",
    "n = sum(y.size for y in y_bmi)\n",
    "\n",
    "k1 = k - 1\n",
    "k2 = n - k\n",
    "\n",
    "alpha = 0.05\n",
    "\n",
    "t = stats.f.ppf(1 - alpha, k1, k2)\n",
    "\n",
    "t"
   ],
   "metadata": {
    "collapsed": false,
    "pycharm": {
     "name": "#%%\n"
    }
   },
   "execution_count": 11,
   "outputs": [
    {
     "data": {
      "text/plain": "3.0045220661840073"
     },
     "execution_count": 11,
     "metadata": {},
     "output_type": "execute_result"
    }
   ]
  },
  {
   "cell_type": "code",
   "execution_count": 12,
   "outputs": [
    {
     "data": {
      "text/plain": "F_onewayResult(statistic=36.058167277438685, pvalue=7.369962129725083e-16)"
     },
     "execution_count": 12,
     "metadata": {},
     "output_type": "execute_result"
    }
   ],
   "source": [
    "# проверим P-значение при помощи функции f_oneway из модуля stats (и сравним значение статистики):\n",
    "\n",
    "stats.f_oneway(*y_bmi)"
   ],
   "metadata": {
    "collapsed": false,
    "pycharm": {
     "name": "#%%\n"
    }
   }
  },
  {
   "cell_type": "code",
   "execution_count": 13,
   "outputs": [],
   "source": [
    "# значение статистики попало в критическую область, а P-значение меньше, чем alpha\n",
    "# таким образом, гипотезу H0 можно отвергнуть, принимаем H1\n",
    "# соответственно, у BMI хоккеистов из Финляндии, Норвегии и Дании есть значимое отличие"
   ],
   "metadata": {
    "collapsed": false,
    "pycharm": {
     "name": "#%%\n"
    }
   }
  },
  {
   "cell_type": "markdown",
   "source": [
    "### Ответ: как у роста, так и у BMI среди хоккеистов из Финляндии, Норвегии и Дании есть значимое отличие."
   ],
   "metadata": {
    "collapsed": false,
    "pycharm": {
     "name": "#%% md\n"
    }
   }
  },
  {
   "cell_type": "code",
   "execution_count": 13,
   "outputs": [],
   "source": [],
   "metadata": {
    "collapsed": false,
    "pycharm": {
     "name": "#%%\n"
    }
   }
  }
 ],
 "metadata": {
  "kernelspec": {
   "display_name": "Python 3",
   "language": "python",
   "name": "python3"
  },
  "language_info": {
   "codemirror_mode": {
    "name": "ipython",
    "version": 2
   },
   "file_extension": ".py",
   "mimetype": "text/x-python",
   "name": "python",
   "nbconvert_exporter": "python",
   "pygments_lexer": "ipython2",
   "version": "2.7.6"
  }
 },
 "nbformat": 4,
 "nbformat_minor": 0
}