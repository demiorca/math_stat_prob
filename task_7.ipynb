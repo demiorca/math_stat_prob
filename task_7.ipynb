{
 "cells": [
  {
   "cell_type": "code",
   "execution_count": 1,
   "metadata": {
    "collapsed": true
   },
   "outputs": [],
   "source": [
    "import numpy as np\n",
    "import pandas as pd\n",
    "from sklearn.linear_model import LinearRegression\n",
    "from scipy import stats"
   ]
  },
  {
   "cell_type": "markdown",
   "source": [
    "### Задача 1.\n",
    "\n",
    "#### Даны матрица объект-признак и значения целевой переменной.\n",
    "#### Подберите два признака (из четырёх) так, чтобы уровень линейной зависимости целевой переменной от значений этих признаков был максимальным. Другими словами, модель линейной регрессии на этих признаках должна давать наилучший результат. В качестве ответа запишите значение коэффициента детерминации для модели на этих признаках."
   ],
   "metadata": {
    "collapsed": false,
    "pycharm": {
     "name": "#%% md\n"
    }
   }
  },
  {
   "cell_type": "code",
   "execution_count": 2,
   "outputs": [],
   "source": [
    "X = [[ 1.22401313,  2.30868478,  3.03636353,  2.69287214],\n",
    "     [-0.18757272,  1.30337355,  5.12093014,  3.46363202],\n",
    "     [-0.81094525,  1.82463398,  5.79686488,  1.86159445],\n",
    "     [ 0.75129018,  2.67392052,  3.65529809,  1.66746094],\n",
    "     [ 0.00972362,  1.97367255,  2.50594319,  1.69755173],\n",
    "     [-0.62972637,  0.77750764,  2.84124027,  4.54410559],\n",
    "     [ 2.29536229,  1.81206697,  1.95026215,  1.51874636],\n",
    "     [ 0.0920418 ,  2.26971361,  7.47708735,  2.61081203],\n",
    "     [ 2.39252799,  3.17563985,  3.61420599,  5.10773362],\n",
    "     [ 0.54983815,  2.87988651,  1.65752765,  1.59635987]]"
   ],
   "metadata": {
    "collapsed": false,
    "pycharm": {
     "name": "#%%\n"
    }
   }
  },
  {
   "cell_type": "code",
   "execution_count": 3,
   "outputs": [],
   "source": [
    "y = np.array([ 9.26193358,  9.700363  ,  8.67214805,  8.74796974,  6.18689108,\n",
    "               7.53312713,  7.57643777, 12.44965478, 14.29010746,  6.68361218])"
   ],
   "metadata": {
    "collapsed": false,
    "pycharm": {
     "name": "#%%\n"
    }
   }
  },
  {
   "cell_type": "code",
   "execution_count": 4,
   "outputs": [
    {
     "data": {
      "text/plain": "          1         2         3         4\n0  1.224013  2.308685  3.036364  2.692872\n1 -0.187573  1.303374  5.120930  3.463632\n2 -0.810945  1.824634  5.796865  1.861594\n3  0.751290  2.673921  3.655298  1.667461\n4  0.009724  1.973673  2.505943  1.697552\n5 -0.629726  0.777508  2.841240  4.544106\n6  2.295362  1.812067  1.950262  1.518746\n7  0.092042  2.269714  7.477087  2.610812\n8  2.392528  3.175640  3.614206  5.107734\n9  0.549838  2.879887  1.657528  1.596360",
      "text/html": "<div>\n<style scoped>\n    .dataframe tbody tr th:only-of-type {\n        vertical-align: middle;\n    }\n\n    .dataframe tbody tr th {\n        vertical-align: top;\n    }\n\n    .dataframe thead th {\n        text-align: right;\n    }\n</style>\n<table border=\"1\" class=\"dataframe\">\n  <thead>\n    <tr style=\"text-align: right;\">\n      <th></th>\n      <th>1</th>\n      <th>2</th>\n      <th>3</th>\n      <th>4</th>\n    </tr>\n  </thead>\n  <tbody>\n    <tr>\n      <th>0</th>\n      <td>1.224013</td>\n      <td>2.308685</td>\n      <td>3.036364</td>\n      <td>2.692872</td>\n    </tr>\n    <tr>\n      <th>1</th>\n      <td>-0.187573</td>\n      <td>1.303374</td>\n      <td>5.120930</td>\n      <td>3.463632</td>\n    </tr>\n    <tr>\n      <th>2</th>\n      <td>-0.810945</td>\n      <td>1.824634</td>\n      <td>5.796865</td>\n      <td>1.861594</td>\n    </tr>\n    <tr>\n      <th>3</th>\n      <td>0.751290</td>\n      <td>2.673921</td>\n      <td>3.655298</td>\n      <td>1.667461</td>\n    </tr>\n    <tr>\n      <th>4</th>\n      <td>0.009724</td>\n      <td>1.973673</td>\n      <td>2.505943</td>\n      <td>1.697552</td>\n    </tr>\n    <tr>\n      <th>5</th>\n      <td>-0.629726</td>\n      <td>0.777508</td>\n      <td>2.841240</td>\n      <td>4.544106</td>\n    </tr>\n    <tr>\n      <th>6</th>\n      <td>2.295362</td>\n      <td>1.812067</td>\n      <td>1.950262</td>\n      <td>1.518746</td>\n    </tr>\n    <tr>\n      <th>7</th>\n      <td>0.092042</td>\n      <td>2.269714</td>\n      <td>7.477087</td>\n      <td>2.610812</td>\n    </tr>\n    <tr>\n      <th>8</th>\n      <td>2.392528</td>\n      <td>3.175640</td>\n      <td>3.614206</td>\n      <td>5.107734</td>\n    </tr>\n    <tr>\n      <th>9</th>\n      <td>0.549838</td>\n      <td>2.879887</td>\n      <td>1.657528</td>\n      <td>1.596360</td>\n    </tr>\n  </tbody>\n</table>\n</div>"
     },
     "execution_count": 4,
     "metadata": {},
     "output_type": "execute_result"
    }
   ],
   "source": [
    "X = pd.DataFrame(X, columns=['1', '2', '3', '4'])\n",
    "\n",
    "X"
   ],
   "metadata": {
    "collapsed": false,
    "pycharm": {
     "name": "#%%\n"
    }
   }
  },
  {
   "cell_type": "code",
   "execution_count": 5,
   "outputs": [
    {
     "data": {
      "text/plain": "array([[ 1.22401313,  2.30868478],\n       [-0.18757272,  1.30337355],\n       [-0.81094525,  1.82463398],\n       [ 0.75129018,  2.67392052],\n       [ 0.00972362,  1.97367255],\n       [-0.62972637,  0.77750764],\n       [ 2.29536229,  1.81206697],\n       [ 0.0920418 ,  2.26971361],\n       [ 2.39252799,  3.17563985],\n       [ 0.54983815,  2.87988651]])"
     },
     "execution_count": 5,
     "metadata": {},
     "output_type": "execute_result"
    }
   ],
   "source": [
    "# возьмём признаки 1 и 2:\n",
    "\n",
    "x_12 = X[['1', '2']].values\n",
    "\n",
    "x_12"
   ],
   "metadata": {
    "collapsed": false,
    "pycharm": {
     "name": "#%%\n"
    }
   }
  },
  {
   "cell_type": "code",
   "execution_count": 6,
   "outputs": [],
   "source": [
    "# выполним необходимые расчёты для признаков 1 и 2"
   ],
   "metadata": {
    "collapsed": false,
    "pycharm": {
     "name": "#%%\n"
    }
   }
  },
  {
   "cell_type": "code",
   "execution_count": 7,
   "outputs": [],
   "source": [
    "ones_12 = np.ones((x_12.shape[0], 1))\n",
    "x_12 = np.hstack((ones_12, x_12))"
   ],
   "metadata": {
    "collapsed": false,
    "pycharm": {
     "name": "#%%\n"
    }
   }
  },
  {
   "cell_type": "code",
   "execution_count": 8,
   "outputs": [
    {
     "name": "stdout",
     "output_type": "stream",
     "text": [
      "[6.70781579 0.40786841 1.03360247]\n"
     ]
    }
   ],
   "source": [
    "XTX_12 = x_12.T.dot(x_12)\n",
    "XTX_inv_12 = np.linalg.inv(XTX_12)\n",
    "b_12 = XTX_inv_12.dot(x_12.T).dot(y)\n",
    "\n",
    "print(b_12)"
   ],
   "metadata": {
    "collapsed": false,
    "pycharm": {
     "name": "#%%\n"
    }
   }
  },
  {
   "cell_type": "code",
   "execution_count": 9,
   "outputs": [
    {
     "data": {
      "text/plain": "array([-0.33138079,  1.72188207,  0.40914502, -1.03004444, -2.56488349,\n        0.27852302, -1.94054069,  3.35831645,  3.32410589, -3.22512304])"
     },
     "execution_count": 9,
     "metadata": {},
     "output_type": "execute_result"
    }
   ],
   "source": [
    "z_12 = x_12.dot(b_12)\n",
    "e_12 = y - z_12\n",
    "\n",
    "e_12"
   ],
   "metadata": {
    "collapsed": false,
    "pycharm": {
     "name": "#%%\n"
    }
   }
  },
  {
   "cell_type": "code",
   "execution_count": 10,
   "outputs": [],
   "source": [
    "lr_12 = LinearRegression(fit_intercept=False).fit(x_12, y)"
   ],
   "metadata": {
    "collapsed": false,
    "pycharm": {
     "name": "#%%\n"
    }
   }
  },
  {
   "cell_type": "code",
   "execution_count": 11,
   "outputs": [
    {
     "data": {
      "text/plain": "(array([6.70781579, 0.40786841, 1.03360247]),\n array([6.70781579, 0.40786841, 1.03360247]))"
     },
     "execution_count": 11,
     "metadata": {},
     "output_type": "execute_result"
    }
   ],
   "source": [
    "b_12, lr_12.coef_"
   ],
   "metadata": {
    "collapsed": false,
    "pycharm": {
     "name": "#%%\n"
    }
   }
  },
  {
   "cell_type": "code",
   "execution_count": 12,
   "outputs": [
    {
     "data": {
      "text/plain": "0.18113595"
     },
     "execution_count": 12,
     "metadata": {},
     "output_type": "execute_result"
    }
   ],
   "source": [
    "# посчитаем R^2:\n",
    "\n",
    "R2_12 = round(1 - ((e_12 - e_12.mean()) ** 2).sum() / ((y - y.mean()) ** 2).sum(), 8)\n",
    "\n",
    "R2_12"
   ],
   "metadata": {
    "collapsed": false,
    "pycharm": {
     "name": "#%%\n"
    }
   }
  },
  {
   "cell_type": "code",
   "execution_count": 13,
   "outputs": [
    {
     "data": {
      "text/plain": "array([[ 1.22401313,  3.03636353],\n       [-0.18757272,  5.12093014],\n       [-0.81094525,  5.79686488],\n       [ 0.75129018,  3.65529809],\n       [ 0.00972362,  2.50594319],\n       [-0.62972637,  2.84124027],\n       [ 2.29536229,  1.95026215],\n       [ 0.0920418 ,  7.47708735],\n       [ 2.39252799,  3.61420599],\n       [ 0.54983815,  1.65752765]])"
     },
     "execution_count": 13,
     "metadata": {},
     "output_type": "execute_result"
    }
   ],
   "source": [
    "# возьмём признаки 1 и 3:\n",
    "\n",
    "x_13 = X[['1', '3']].values\n",
    "\n",
    "x_13"
   ],
   "metadata": {
    "collapsed": false,
    "pycharm": {
     "name": "#%%\n"
    }
   }
  },
  {
   "cell_type": "code",
   "execution_count": 14,
   "outputs": [],
   "source": [
    "# выполним необходимые расчёты для признаков 1 и 3"
   ],
   "metadata": {
    "collapsed": false,
    "pycharm": {
     "name": "#%%\n"
    }
   }
  },
  {
   "cell_type": "code",
   "execution_count": 15,
   "outputs": [],
   "source": [
    "ones_13 = np.ones((x_13.shape[0], 1))\n",
    "x_13 = np.hstack((ones_13, x_13))"
   ],
   "metadata": {
    "collapsed": false,
    "pycharm": {
     "name": "#%%\n"
    }
   }
  },
  {
   "cell_type": "code",
   "execution_count": 16,
   "outputs": [
    {
     "name": "stdout",
     "output_type": "stream",
     "text": [
      "[3.62455695 1.62531203 1.21134979]\n"
     ]
    }
   ],
   "source": [
    "XTX_13 = x_13.T.dot(x_13)\n",
    "XTX_inv_13 = np.linalg.inv(XTX_13)\n",
    "b_13 = XTX_inv_13.dot(x_13.T).dot(y)\n",
    "\n",
    "print(b_13)"
   ],
   "metadata": {
    "collapsed": false,
    "pycharm": {
     "name": "#%%\n"
    }
   }
  },
  {
   "cell_type": "code",
   "execution_count": 17,
   "outputs": [
    {
     "data": {
      "text/plain": "array([-0.03012497,  0.17743258, -0.6564009 , -0.52551276, -0.48904355,\n        1.49033621, -2.14124878, -0.38186703,  2.3988783 ,  0.15755089])"
     },
     "execution_count": 17,
     "metadata": {},
     "output_type": "execute_result"
    }
   ],
   "source": [
    "z_13 = x_13.dot(b_13)\n",
    "e_13 = y - z_13\n",
    "\n",
    "e_13"
   ],
   "metadata": {
    "collapsed": false,
    "pycharm": {
     "name": "#%%\n"
    }
   }
  },
  {
   "cell_type": "code",
   "execution_count": 18,
   "outputs": [],
   "source": [
    "lr_13 = LinearRegression(fit_intercept=False).fit(x_13, y)"
   ],
   "metadata": {
    "collapsed": false,
    "pycharm": {
     "name": "#%%\n"
    }
   }
  },
  {
   "cell_type": "code",
   "execution_count": 19,
   "outputs": [
    {
     "data": {
      "text/plain": "(array([3.62455695, 1.62531203, 1.21134979]),\n array([3.62455695, 1.62531203, 1.21134979]))"
     },
     "execution_count": 19,
     "metadata": {},
     "output_type": "execute_result"
    }
   ],
   "source": [
    "b_13, lr_13.coef_"
   ],
   "metadata": {
    "collapsed": false,
    "pycharm": {
     "name": "#%%\n"
    }
   }
  },
  {
   "cell_type": "code",
   "execution_count": 20,
   "outputs": [
    {
     "data": {
      "text/plain": "0.76342462"
     },
     "execution_count": 20,
     "metadata": {},
     "output_type": "execute_result"
    }
   ],
   "source": [
    "# посчитаем R^2:\n",
    "\n",
    "R2_13 = round(1 - ((e_13 - e_13.mean()) ** 2).sum() / ((y - y.mean()) ** 2).sum(), 8)\n",
    "\n",
    "R2_13"
   ],
   "metadata": {
    "collapsed": false,
    "pycharm": {
     "name": "#%%\n"
    }
   }
  },
  {
   "cell_type": "code",
   "execution_count": 21,
   "outputs": [
    {
     "data": {
      "text/plain": "array([[ 1.22401313,  2.69287214],\n       [-0.18757272,  3.46363202],\n       [-0.81094525,  1.86159445],\n       [ 0.75129018,  1.66746094],\n       [ 0.00972362,  1.69755173],\n       [-0.62972637,  4.54410559],\n       [ 2.29536229,  1.51874636],\n       [ 0.0920418 ,  2.61081203],\n       [ 2.39252799,  5.10773362],\n       [ 0.54983815,  1.59635987]])"
     },
     "execution_count": 21,
     "metadata": {},
     "output_type": "execute_result"
    }
   ],
   "source": [
    "# возьмём признаки 1 и 4:\n",
    "\n",
    "x_14 = X[['1', '4']].values\n",
    "\n",
    "x_14"
   ],
   "metadata": {
    "collapsed": false,
    "pycharm": {
     "name": "#%%\n"
    }
   }
  },
  {
   "cell_type": "code",
   "execution_count": 22,
   "outputs": [],
   "source": [
    "# выполним необходимые расчёты для признаков 1 и 4"
   ],
   "metadata": {
    "collapsed": false,
    "pycharm": {
     "name": "#%%\n"
    }
   }
  },
  {
   "cell_type": "code",
   "execution_count": 23,
   "outputs": [],
   "source": [
    "ones_14 = np.ones((x_14.shape[0], 1))\n",
    "x_14 = np.hstack((ones_14, x_14))"
   ],
   "metadata": {
    "collapsed": false,
    "pycharm": {
     "name": "#%%\n"
    }
   }
  },
  {
   "cell_type": "code",
   "execution_count": 24,
   "outputs": [
    {
     "name": "stdout",
     "output_type": "stream",
     "text": [
      "[5.70686123 0.68359949 1.12650707]\n"
     ]
    }
   ],
   "source": [
    "XTX_14 = x_14.T.dot(x_14)\n",
    "XTX_inv_14 = np.linalg.inv(XTX_14)\n",
    "b_14 = XTX_inv_14.dot(x_14.T).dot(y)\n",
    "\n",
    "print(b_14)"
   ],
   "metadata": {
    "collapsed": false,
    "pycharm": {
     "name": "#%%\n"
    }
   }
  },
  {
   "cell_type": "code",
   "execution_count": 25,
   "outputs": [
    {
     "data": {
      "text/plain": "array([-0.3152019 ,  0.21992042,  1.42254926,  0.64912039, -1.43892124,\n       -2.86222056, -1.41041046,  3.73877561,  1.19381729, -1.19742881])"
     },
     "execution_count": 25,
     "metadata": {},
     "output_type": "execute_result"
    }
   ],
   "source": [
    "z_14 = x_14.dot(b_14)\n",
    "e_14 = y - z_14\n",
    "\n",
    "e_14"
   ],
   "metadata": {
    "collapsed": false,
    "pycharm": {
     "name": "#%%\n"
    }
   }
  },
  {
   "cell_type": "code",
   "execution_count": 26,
   "outputs": [],
   "source": [
    "lr_14 = LinearRegression(fit_intercept=False).fit(x_14, y)"
   ],
   "metadata": {
    "collapsed": false,
    "pycharm": {
     "name": "#%%\n"
    }
   }
  },
  {
   "cell_type": "code",
   "execution_count": 27,
   "outputs": [
    {
     "data": {
      "text/plain": "(array([5.70686123, 0.68359949, 1.12650707]),\n array([5.70686123, 0.68359949, 1.12650707]))"
     },
     "execution_count": 27,
     "metadata": {},
     "output_type": "execute_result"
    }
   ],
   "source": [
    "b_14, lr_14.coef_"
   ],
   "metadata": {
    "collapsed": false,
    "pycharm": {
     "name": "#%%\n"
    }
   }
  },
  {
   "cell_type": "code",
   "execution_count": 28,
   "outputs": [
    {
     "data": {
      "text/plain": "0.45329668"
     },
     "execution_count": 28,
     "metadata": {},
     "output_type": "execute_result"
    }
   ],
   "source": [
    "# посчитаем R^2:\n",
    "\n",
    "R2_14 = round(1 - ((e_14 - e_14.mean()) ** 2).sum() / ((y - y.mean()) ** 2).sum(), 8)\n",
    "\n",
    "R2_14"
   ],
   "metadata": {
    "collapsed": false,
    "pycharm": {
     "name": "#%%\n"
    }
   }
  },
  {
   "cell_type": "code",
   "execution_count": 29,
   "outputs": [
    {
     "data": {
      "text/plain": "array([[2.30868478, 3.03636353],\n       [1.30337355, 5.12093014],\n       [1.82463398, 5.79686488],\n       [2.67392052, 3.65529809],\n       [1.97367255, 2.50594319],\n       [0.77750764, 2.84124027],\n       [1.81206697, 1.95026215],\n       [2.26971361, 7.47708735],\n       [3.17563985, 3.61420599],\n       [2.87988651, 1.65752765]])"
     },
     "execution_count": 29,
     "metadata": {},
     "output_type": "execute_result"
    }
   ],
   "source": [
    "# возьмём признаки 2 и 3:\n",
    "\n",
    "x_23 = X[['2', '3']].values\n",
    "\n",
    "x_23"
   ],
   "metadata": {
    "collapsed": false,
    "pycharm": {
     "name": "#%%\n"
    }
   }
  },
  {
   "cell_type": "code",
   "execution_count": 30,
   "outputs": [],
   "source": [
    "# выполним необходимые расчёты для признаков 2 и 3"
   ],
   "metadata": {
    "collapsed": false,
    "pycharm": {
     "name": "#%%\n"
    }
   }
  },
  {
   "cell_type": "code",
   "execution_count": 31,
   "outputs": [],
   "source": [
    "ones_23 = np.ones((x_23.shape[0], 1))\n",
    "x_23 = np.hstack((ones_23, x_23))"
   ],
   "metadata": {
    "collapsed": false,
    "pycharm": {
     "name": "#%%\n"
    }
   }
  },
  {
   "cell_type": "code",
   "execution_count": 32,
   "outputs": [
    {
     "name": "stdout",
     "output_type": "stream",
     "text": [
      "[2.48896193 1.60611956 0.86269915]\n"
     ]
    }
   ],
   "source": [
    "XTX_23 = x_23.T.dot(x_23)\n",
    "XTX_inv_23 = np.linalg.inv(XTX_23)\n",
    "b_23 = XTX_inv_23.dot(x_23.T).dot(y)\n",
    "\n",
    "print(b_23)"
   ],
   "metadata": {
    "collapsed": false,
    "pycharm": {
     "name": "#%%\n"
    }
   }
  },
  {
   "cell_type": "code",
   "execution_count": 33,
   "outputs": [
    {
     "data": {
      "text/plain": "array([ 0.44547964,  0.70020526, -1.74834459, -1.18905078, -1.63389999,\n        1.34425942,  0.49459014, -0.13521545,  3.58271583, -1.86073949])"
     },
     "execution_count": 33,
     "metadata": {},
     "output_type": "execute_result"
    }
   ],
   "source": [
    "z_23 = x_23.dot(b_23)\n",
    "e_23 = y - z_23\n",
    "\n",
    "e_23"
   ],
   "metadata": {
    "collapsed": false,
    "pycharm": {
     "name": "#%%\n"
    }
   }
  },
  {
   "cell_type": "code",
   "execution_count": 34,
   "outputs": [],
   "source": [
    "lr_23 = LinearRegression(fit_intercept=False).fit(x_23, y)"
   ],
   "metadata": {
    "collapsed": false,
    "pycharm": {
     "name": "#%%\n"
    }
   }
  },
  {
   "cell_type": "code",
   "execution_count": 35,
   "outputs": [
    {
     "data": {
      "text/plain": "(array([2.48896193, 1.60611956, 0.86269915]),\n array([2.48896193, 1.60611956, 0.86269915]))"
     },
     "execution_count": 35,
     "metadata": {},
     "output_type": "execute_result"
    }
   ],
   "source": [
    "b_23, lr_23.coef_"
   ],
   "metadata": {
    "collapsed": false,
    "pycharm": {
     "name": "#%%\n"
    }
   }
  },
  {
   "cell_type": "code",
   "execution_count": 36,
   "outputs": [
    {
     "data": {
      "text/plain": "0.54794827"
     },
     "execution_count": 36,
     "metadata": {},
     "output_type": "execute_result"
    }
   ],
   "source": [
    "# посчитаем R^2:\n",
    "\n",
    "R2_23 = round(1 - ((e_23 - e_23.mean()) ** 2).sum() / ((y - y.mean()) ** 2).sum(), 8)\n",
    "\n",
    "R2_23"
   ],
   "metadata": {
    "collapsed": false,
    "pycharm": {
     "name": "#%%\n"
    }
   }
  },
  {
   "cell_type": "code",
   "execution_count": 37,
   "outputs": [
    {
     "data": {
      "text/plain": "array([[2.30868478, 2.69287214],\n       [1.30337355, 3.46363202],\n       [1.82463398, 1.86159445],\n       [2.67392052, 1.66746094],\n       [1.97367255, 1.69755173],\n       [0.77750764, 4.54410559],\n       [1.81206697, 1.51874636],\n       [2.26971361, 2.61081203],\n       [3.17563985, 5.10773362],\n       [2.87988651, 1.59635987]])"
     },
     "execution_count": 37,
     "metadata": {},
     "output_type": "execute_result"
    }
   ],
   "source": [
    "# возьмём признаки 2 и 4:\n",
    "\n",
    "x_24 = X[['2', '4']].values\n",
    "\n",
    "x_24"
   ],
   "metadata": {
    "collapsed": false,
    "pycharm": {
     "name": "#%%\n"
    }
   }
  },
  {
   "cell_type": "code",
   "execution_count": 38,
   "outputs": [],
   "source": [
    "# выполним необходимые расчёты для признаков 2 и 4"
   ],
   "metadata": {
    "collapsed": false,
    "pycharm": {
     "name": "#%%\n"
    }
   }
  },
  {
   "cell_type": "code",
   "execution_count": 39,
   "outputs": [],
   "source": [
    "ones_24 = np.ones((x_24.shape[0], 1))\n",
    "x_24 = np.hstack((ones_24, x_24))"
   ],
   "metadata": {
    "collapsed": false,
    "pycharm": {
     "name": "#%%\n"
    }
   }
  },
  {
   "cell_type": "code",
   "execution_count": 40,
   "outputs": [
    {
     "name": "stdout",
     "output_type": "stream",
     "text": [
      "[1.91685221 1.74373667 1.31971882]\n"
     ]
    }
   ],
   "source": [
    "XTX_24 = x_24.T.dot(x_24)\n",
    "XTX_inv_24 = np.linalg.inv(XTX_24)\n",
    "b_24 = XTX_inv_24.dot(x_24.T).dot(y)\n",
    "\n",
    "print(b_24)"
   ],
   "metadata": {
    "collapsed": false,
    "pycharm": {
     "name": "#%%\n"
    }
   }
  },
  {
   "cell_type": "code",
   "execution_count": 41,
   "outputs": [
    {
     "data": {
      "text/plain": "array([-0.23449097,  0.93975019,  1.11683344, -0.03207531, -1.41181729,\n       -1.73643531,  0.49549979,  3.12948196,  0.09500343, -2.3617499 ])"
     },
     "execution_count": 41,
     "metadata": {},
     "output_type": "execute_result"
    }
   ],
   "source": [
    "z_24 = x_24.dot(b_24)\n",
    "e_24 = y - z_24\n",
    "\n",
    "e_24"
   ],
   "metadata": {
    "collapsed": false,
    "pycharm": {
     "name": "#%%\n"
    }
   }
  },
  {
   "cell_type": "code",
   "execution_count": 42,
   "outputs": [],
   "source": [
    "lr_24 = LinearRegression(fit_intercept=False).fit(x_24, y)"
   ],
   "metadata": {
    "collapsed": false,
    "pycharm": {
     "name": "#%%\n"
    }
   }
  },
  {
   "cell_type": "code",
   "execution_count": 43,
   "outputs": [
    {
     "data": {
      "text/plain": "(array([1.91685221, 1.74373667, 1.31971882]),\n array([1.91685221, 1.74373667, 1.31971882]))"
     },
     "execution_count": 43,
     "metadata": {},
     "output_type": "execute_result"
    }
   ],
   "source": [
    "b_24, lr_24.coef_"
   ],
   "metadata": {
    "collapsed": false,
    "pycharm": {
     "name": "#%%\n"
    }
   }
  },
  {
   "cell_type": "code",
   "execution_count": 44,
   "outputs": [
    {
     "data": {
      "text/plain": "0.60620558"
     },
     "execution_count": 44,
     "metadata": {},
     "output_type": "execute_result"
    }
   ],
   "source": [
    "# посчитаем R^2:\n",
    "\n",
    "R2_24 = round(1 - ((e_24 - e_24.mean()) ** 2).sum() / ((y - y.mean()) ** 2).sum(), 8)\n",
    "\n",
    "R2_24"
   ],
   "metadata": {
    "collapsed": false,
    "pycharm": {
     "name": "#%%\n"
    }
   }
  },
  {
   "cell_type": "code",
   "execution_count": 45,
   "outputs": [
    {
     "data": {
      "text/plain": "array([[3.03636353, 2.69287214],\n       [5.12093014, 3.46363202],\n       [5.79686488, 1.86159445],\n       [3.65529809, 1.66746094],\n       [2.50594319, 1.69755173],\n       [2.84124027, 4.54410559],\n       [1.95026215, 1.51874636],\n       [7.47708735, 2.61081203],\n       [3.61420599, 5.10773362],\n       [1.65752765, 1.59635987]])"
     },
     "execution_count": 45,
     "metadata": {},
     "output_type": "execute_result"
    }
   ],
   "source": [
    "# возьмём признаки 3 и 4:\n",
    "\n",
    "x_34 = X[['3', '4']].values\n",
    "\n",
    "x_34"
   ],
   "metadata": {
    "collapsed": false,
    "pycharm": {
     "name": "#%%\n"
    }
   }
  },
  {
   "cell_type": "code",
   "execution_count": 46,
   "outputs": [],
   "source": [
    "# выполним необходимые расчёты для признаков 3 и 4"
   ],
   "metadata": {
    "collapsed": false,
    "pycharm": {
     "name": "#%%\n"
    }
   }
  },
  {
   "cell_type": "code",
   "execution_count": 47,
   "outputs": [],
   "source": [
    "ones_34 = np.ones((x_34.shape[0], 1))\n",
    "x_34 = np.hstack((ones_34, x_34))"
   ],
   "metadata": {
    "collapsed": false,
    "pycharm": {
     "name": "#%%\n"
    }
   }
  },
  {
   "cell_type": "code",
   "execution_count": 48,
   "outputs": [
    {
     "name": "stdout",
     "output_type": "stream",
     "text": [
      "[3.64001086 0.70753914 1.04851745]\n"
     ]
    }
   ],
   "source": [
    "XTX_34 = x_34.T.dot(x_34)\n",
    "XTX_inv_34 = np.linalg.inv(XTX_34)\n",
    "b_34 = XTX_inv_34.dot(x_34.T).dot(y)\n",
    "\n",
    "print(b_34)"
   ],
   "metadata": {
    "collapsed": false,
    "pycharm": {
     "name": "#%%\n"
    }
   }
  },
  {
   "cell_type": "code",
   "execution_count": 49,
   "outputs": [
    {
     "data": {
      "text/plain": "array([ 0.65005323, -1.19458502, -1.0212859 ,  0.7733305 , -1.0060853 ,\n       -2.88174646,  0.96410803,  0.78182995,  2.73735653,  0.19702444])"
     },
     "execution_count": 49,
     "metadata": {},
     "output_type": "execute_result"
    }
   ],
   "source": [
    "z_34 = x_34.dot(b_34)\n",
    "e_34 = y - z_34\n",
    "\n",
    "e_34"
   ],
   "metadata": {
    "collapsed": false,
    "pycharm": {
     "name": "#%%\n"
    }
   }
  },
  {
   "cell_type": "code",
   "execution_count": 50,
   "outputs": [],
   "source": [
    "lr_34 = LinearRegression(fit_intercept=False).fit(x_34, y)"
   ],
   "metadata": {
    "collapsed": false,
    "pycharm": {
     "name": "#%%\n"
    }
   }
  },
  {
   "cell_type": "code",
   "execution_count": 51,
   "outputs": [
    {
     "data": {
      "text/plain": "(array([3.64001086, 0.70753914, 1.04851745]),\n array([3.64001086, 0.70753914, 1.04851745]))"
     },
     "execution_count": 51,
     "metadata": {},
     "output_type": "execute_result"
    }
   ],
   "source": [
    "b_34, lr_34.coef_"
   ],
   "metadata": {
    "collapsed": false,
    "pycharm": {
     "name": "#%%\n"
    }
   }
  },
  {
   "cell_type": "code",
   "execution_count": 52,
   "outputs": [
    {
     "data": {
      "text/plain": "0.62244199"
     },
     "execution_count": 52,
     "metadata": {},
     "output_type": "execute_result"
    }
   ],
   "source": [
    "# посчитаем R^2:\n",
    "\n",
    "R2_34 = round(1 - ((e_34 - e_34.mean()) ** 2).sum() / ((y - y.mean()) ** 2).sum(), 8)\n",
    "\n",
    "R2_34"
   ],
   "metadata": {
    "collapsed": false,
    "pycharm": {
     "name": "#%%\n"
    }
   }
  },
  {
   "cell_type": "code",
   "execution_count": 53,
   "outputs": [
    {
     "name": "stdout",
     "output_type": "stream",
     "text": [
      "R^2 с признаками 1 и 2: 0.18113595\n",
      "R^2 с признаками 1 и 3: 0.76342462\n",
      "R^2 с признаками 1 и 4: 0.45329668\n",
      "R^2 с признаками 2 и 3: 0.54794827\n",
      "R^2 с признаками 2 и 4: 0.60620558\n",
      "R^2 с признаками 3 и 4: 0.62244199\n"
     ]
    }
   ],
   "source": [
    "# посмотрим на все получившиеся R^2:\n",
    "\n",
    "print(f'R^2 с признаками 1 и 2: {R2_12}\\nR^2 с признаками 1 и 3: {R2_13}\\n'\n",
    "      f'R^2 с признаками 1 и 4: {R2_14}\\nR^2 с признаками 2 и 3: {R2_23}\\n'\n",
    "      f'R^2 с признаками 2 и 4: {R2_24}\\nR^2 с признаками 3 и 4: {R2_34}')"
   ],
   "metadata": {
    "collapsed": false,
    "pycharm": {
     "name": "#%%\n"
    }
   }
  },
  {
   "cell_type": "code",
   "execution_count": 54,
   "outputs": [
    {
     "name": "stdout",
     "output_type": "stream",
     "text": [
      "Ответ: 0.76342462\n"
     ]
    }
   ],
   "source": [
    "# модель линейной регрессии на признаках 1 и 3 даёт наилучший результат.\n",
    "\n",
    "print(f'Ответ: {R2_13}')"
   ],
   "metadata": {
    "collapsed": false,
    "pycharm": {
     "name": "#%%\n"
    }
   }
  },
  {
   "cell_type": "markdown",
   "source": [
    "### Задача 2.\n",
    "\n",
    "#### Является ли значимым уравнение регрессии, полученное в предыдущей задаче? В качестве ответа запишите 1, если является, и 0 иначе."
   ],
   "metadata": {
    "collapsed": false,
    "pycharm": {
     "name": "#%% md\n"
    }
   }
  },
  {
   "cell_type": "code",
   "execution_count": 55,
   "outputs": [
    {
     "data": {
      "text/plain": "(2, 7)"
     },
     "execution_count": 55,
     "metadata": {},
     "output_type": "execute_result"
    }
   ],
   "source": [
    "n = x_13.shape[0] # число наблюдений\n",
    "m = x_13.shape[1] - 1 # число факторов (вычитаем единицу, так как добавляли нулевой фактор)\n",
    "\n",
    "# параметры k1 и k2:\n",
    "\n",
    "k1 = m\n",
    "k2 = n - m - 1\n",
    "\n",
    "k1, k2"
   ],
   "metadata": {
    "collapsed": false,
    "pycharm": {
     "name": "#%%\n"
    }
   }
  },
  {
   "cell_type": "code",
   "execution_count": 56,
   "outputs": [
    {
     "data": {
      "text/plain": "4.73741412777588"
     },
     "execution_count": 56,
     "metadata": {},
     "output_type": "execute_result"
    }
   ],
   "source": [
    "alpha = 0.05 # уровень значимости\n",
    "\n",
    "# найдём квантиль:\n",
    "\n",
    "t = stats.f.ppf(1 - alpha, k1, k2)\n",
    "\n",
    "t"
   ],
   "metadata": {
    "collapsed": false,
    "pycharm": {
     "name": "#%%\n"
    }
   }
  },
  {
   "cell_type": "code",
   "execution_count": 57,
   "outputs": [
    {
     "data": {
      "text/plain": "11.29443888032643"
     },
     "execution_count": 57,
     "metadata": {},
     "output_type": "execute_result"
    }
   ],
   "source": [
    "# считаем значение статистики по F-тесту Фишера:\n",
    "\n",
    "F = (R2_13 / k1) / ((1 - R2_13) / k2)\n",
    "\n",
    "F"
   ],
   "metadata": {
    "collapsed": false,
    "pycharm": {
     "name": "#%%\n"
    }
   }
  },
  {
   "cell_type": "code",
   "execution_count": 58,
   "outputs": [
    {
     "name": "stdout",
     "output_type": "stream",
     "text": [
      "Ответ: 1\n"
     ]
    }
   ],
   "source": [
    "# видим, что статистика попадает в критическую область (F > t), H0 отвергается, уравнение признаётся значимым.\n",
    "\n",
    "if F > t:\n",
    "    print('Ответ: 1')\n",
    "elif F < t:\n",
    "    print('Ответ: 0')"
   ],
   "metadata": {
    "collapsed": false,
    "pycharm": {
     "name": "#%%\n"
    }
   }
  },
  {
   "cell_type": "markdown",
   "source": [
    "### Задача 3.\n",
    "\n",
    "#### Для проведения A/B-тестирования сайта интернет-магазина были получены следующие данные: страница A была посещена 2509 раз, из них 77 закончились совершением покупки, страница B была посещена 1465 раз, 60 из них закончились совершением покупки. Является ли значимым отличие конверсии на страницах A и B? В качестве ответа запишите 1, если является, и 0 иначе.\n",
    "#### Подсказка: реализуйте двухвыборочный t-тест. В качестве выборок здесь можно взять наборы меток совершения покупки (0 или 1) каждым посетителем."
   ],
   "metadata": {
    "collapsed": false,
    "pycharm": {
     "name": "#%% md\n"
    }
   }
  },
  {
   "cell_type": "code",
   "execution_count": 59,
   "outputs": [],
   "source": [
    "# создадим выборки с метками:\n",
    "\n",
    "a = np.concatenate((np.ones(77, dtype=np.int64), np.zeros(2432, dtype=np.int64)), axis=0)\n",
    "b = np.concatenate((np.ones(60, dtype=np.int64), np.zeros(1405, dtype=np.int64)), axis=0)"
   ],
   "metadata": {
    "collapsed": false,
    "pycharm": {
     "name": "#%%\n"
    }
   }
  },
  {
   "cell_type": "code",
   "execution_count": 60,
   "outputs": [],
   "source": [
    "# перемешаем для рандомности:\n",
    "\n",
    "np.random.shuffle(a)\n",
    "np.random.shuffle(b)"
   ],
   "metadata": {
    "collapsed": false,
    "pycharm": {
     "name": "#%%\n"
    }
   }
  },
  {
   "cell_type": "code",
   "execution_count": 61,
   "outputs": [
    {
     "name": "stdout",
     "output_type": "stream",
     "text": [
      "Объём выборки A: 2509\n",
      "Объём выборки B: 1465\n",
      "Среднее квадратическое отклонение выборки A: 0.17250951379621335\n",
      "Среднее квадратическое отклонение выборки B: 0.19825513126725994\n"
     ]
    }
   ],
   "source": [
    "n1 = a.size # объём выборки A\n",
    "n2 = b.size # объём выборки B\n",
    "\n",
    "s1 = a.std(ddof=1) # среднее квадратическое отклонение выборки A\n",
    "s2 = b.std(ddof=1) # среднее квадратическое отклонение выборки B\n",
    "\n",
    "print(f'Объём выборки A: {n1}\\nОбъём выборки B: {n2}\\n'\n",
    "      f'Среднее квадратическое отклонение выборки A: {s1}\\nСреднее квадратическое отклонение выборки B: {s2}')"
   ],
   "metadata": {
    "collapsed": false,
    "pycharm": {
     "name": "#%%\n"
    }
   }
  },
  {
   "cell_type": "code",
   "execution_count": 62,
   "outputs": [
    {
     "data": {
      "text/plain": "0.006220171278295827"
     },
     "execution_count": 62,
     "metadata": {},
     "output_type": "execute_result"
    }
   ],
   "source": [
    "# найдём среднее квадратическое отклонение разности между выборочными средними выборок A и B:\n",
    "\n",
    "s_delta = np.sqrt(s1 ** 2 / n1 + s2 ** 2 / n2)\n",
    "\n",
    "s_delta"
   ],
   "metadata": {
    "collapsed": false,
    "pycharm": {
     "name": "#%%\n"
    }
   }
  },
  {
   "cell_type": "code",
   "execution_count": 63,
   "outputs": [
    {
     "data": {
      "text/plain": "-1.6504551408398205"
     },
     "execution_count": 63,
     "metadata": {},
     "output_type": "execute_result"
    }
   ],
   "source": [
    "# посчитаем значение статистики:\n",
    "\n",
    "t = (a.mean() - b.mean()) / s_delta\n",
    "\n",
    "t"
   ],
   "metadata": {
    "collapsed": false,
    "pycharm": {
     "name": "#%%\n"
    }
   }
  },
  {
   "cell_type": "code",
   "execution_count": 64,
   "outputs": [
    {
     "data": {
      "text/plain": "2732.802564435212"
     },
     "execution_count": 64,
     "metadata": {},
     "output_type": "execute_result"
    }
   ],
   "source": [
    "# определим число степеней свободы распределения:\n",
    "\n",
    "df = (s1 ** 2 / n1 + s2 ** 2 / n2) ** 2 / ((s1 ** 2 / n1) ** 2 / (n1 - 1) + (s2 ** 2 / n2) ** 2 / (n2 - 1))\n",
    "\n",
    "df"
   ],
   "metadata": {
    "collapsed": false,
    "pycharm": {
     "name": "#%%\n"
    }
   }
  },
  {
   "cell_type": "code",
   "execution_count": 65,
   "outputs": [
    {
     "data": {
      "text/plain": "(-1.9608324352746576, 1.9608324352746571)"
     },
     "execution_count": 65,
     "metadata": {},
     "output_type": "execute_result"
    }
   ],
   "source": [
    "alpha = 0.05 # уровень значимости\n",
    "\n",
    "# считаем квантили:\n",
    "\n",
    "t1 = stats.t.ppf(alpha / 2, df=df)\n",
    "t2 = stats.t.ppf(1 - alpha / 2, df=df)\n",
    "\n",
    "t1, t2"
   ],
   "metadata": {
    "collapsed": false,
    "pycharm": {
     "name": "#%%\n"
    }
   }
  },
  {
   "cell_type": "code",
   "execution_count": 66,
   "outputs": [
    {
     "data": {
      "text/plain": "Ttest_indResult(statistic=-1.6504551408398205, pvalue=0.09896479217925899)"
     },
     "execution_count": 66,
     "metadata": {},
     "output_type": "execute_result"
    }
   ],
   "source": [
    "# проверим значение статистики при помощи stats.ttest_ind, убедимся, что оно такое же:\n",
    "\n",
    "stats.ttest_ind(a, b, equal_var=False)"
   ],
   "metadata": {
    "collapsed": false,
    "pycharm": {
     "name": "#%%\n"
    }
   }
  },
  {
   "cell_type": "code",
   "execution_count": 67,
   "outputs": [
    {
     "name": "stdout",
     "output_type": "stream",
     "text": [
      "Ответ: 0\n"
     ]
    }
   ],
   "source": [
    "# за нулевую гипотезу берётся предположение, что конверсия на страницах A и B не отличается.\n",
    "# видим, что статистика не попадает в критическую область, соответственно, нет основания отвергать H0.\n",
    "# таким образом, отличие конверсии на страницах A и B не является значимым.\n",
    "\n",
    "if t < t1 or t > t2:\n",
    "    print('Ответ: 1')\n",
    "elif t1 < t < t2:\n",
    "    print('Ответ: 0')"
   ],
   "metadata": {
    "collapsed": false,
    "pycharm": {
     "name": "#%%\n"
    }
   }
  },
  {
   "cell_type": "code",
   "execution_count": 67,
   "outputs": [],
   "source": [],
   "metadata": {
    "collapsed": false,
    "pycharm": {
     "name": "#%%\n"
    }
   }
  }
 ],
 "metadata": {
  "kernelspec": {
   "display_name": "Python 3",
   "language": "python",
   "name": "python3"
  },
  "language_info": {
   "codemirror_mode": {
    "name": "ipython",
    "version": 2
   },
   "file_extension": ".py",
   "mimetype": "text/x-python",
   "name": "python",
   "nbconvert_exporter": "python",
   "pygments_lexer": "ipython2",
   "version": "2.7.6"
  }
 },
 "nbformat": 4,
 "nbformat_minor": 0
}