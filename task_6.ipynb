{
 "cells": [
  {
   "cell_type": "code",
   "execution_count": 1,
   "metadata": {
    "collapsed": true
   },
   "outputs": [],
   "source": [
    "import numpy as np\n",
    "import pandas as pd\n",
    "from scipy import stats"
   ]
  },
  {
   "cell_type": "markdown",
   "source": [
    "### Задача 1.\n",
    "\n",
    "#### Даны значения величины заработной платы заёмщиков банка (zp) и значения их поведенческого кредитного скоринга (ks):\n",
    "#### zp = [35, 45, 190, 200, 40, 70, 54, 150, 120, 110],\n",
    "#### ks = [401, 574, 874, 919, 459, 739, 653, 902, 746, 832].\n",
    "#### Найдите ковариацию этих двух величин с помощью элементарных действий, а затем с помощью функции cov из numpy\n",
    "#### Полученные значения должны быть равны.\n",
    "#### Найдите коэффициент корреляции Пирсона с помощью ковариации и среднеквадратичных отклонений двух признаков, а затем с использованием функций из библиотек numpy и pandas."
   ],
   "metadata": {
    "collapsed": false,
    "pycharm": {
     "name": "#%% md\n"
    }
   }
  },
  {
   "cell_type": "code",
   "execution_count": 2,
   "outputs": [],
   "source": [
    "zp = [35, 45, 190, 200, 40, 70, 54, 150, 120, 110]\n",
    "ks = [401, 574, 874, 919, 459, 739, 653, 902, 746, 832]"
   ],
   "metadata": {
    "collapsed": false,
    "pycharm": {
     "name": "#%%\n"
    }
   }
  },
  {
   "cell_type": "code",
   "execution_count": 3,
   "outputs": [
    {
     "data": {
      "text/plain": "(101.4, 709.9)"
     },
     "execution_count": 3,
     "metadata": {},
     "output_type": "execute_result"
    }
   ],
   "source": [
    "m_zp = sum(zp) / len(zp) # математическое ожидание zp (X)\n",
    "m_ks = sum(ks) / len(ks) # математическое ожидание ks (Y)\n",
    "\n",
    "m_zp, m_ks"
   ],
   "metadata": {
    "collapsed": false,
    "pycharm": {
     "name": "#%%\n"
    }
   }
  },
  {
   "cell_type": "code",
   "execution_count": 4,
   "outputs": [],
   "source": [
    "# посчитаем ковариацию\n",
    "# в переменных x и y считаем (X - M(X)) и (Y - M(Y)) из формулы ковариации"
   ],
   "metadata": {
    "collapsed": false,
    "pycharm": {
     "name": "#%%\n"
    }
   }
  },
  {
   "cell_type": "code",
   "execution_count": 5,
   "outputs": [
    {
     "data": {
      "text/plain": "([-66.4,\n  -56.400000000000006,\n  88.6,\n  98.6,\n  -61.400000000000006,\n  -31.400000000000006,\n  -47.400000000000006,\n  48.599999999999994,\n  18.599999999999994,\n  8.599999999999994],\n [-308.9,\n  -135.89999999999998,\n  164.10000000000002,\n  209.10000000000002,\n  -250.89999999999998,\n  29.100000000000023,\n  -56.89999999999998,\n  192.10000000000002,\n  36.10000000000002,\n  122.10000000000002])"
     },
     "execution_count": 5,
     "metadata": {},
     "output_type": "execute_result"
    }
   ],
   "source": [
    "x = [i - m_zp for i in zp]\n",
    "y = [j - m_ks for j in ks]\n",
    "\n",
    "x, y"
   ],
   "metadata": {
    "collapsed": false,
    "pycharm": {
     "name": "#%%\n"
    }
   }
  },
  {
   "cell_type": "code",
   "execution_count": 6,
   "outputs": [
    {
     "data": {
      "text/plain": "10175.37777778"
     },
     "execution_count": 6,
     "metadata": {},
     "output_type": "execute_result"
    }
   ],
   "source": [
    "# найдём несмещённую оценку ковариации по формуле:\n",
    "\n",
    "cov_1 = round(sum([x_ * y_ for x_, y_ in zip(x, y)]) / (len(zp) - 1), 8)\n",
    "\n",
    "cov_1"
   ],
   "metadata": {
    "collapsed": false,
    "pycharm": {
     "name": "#%%\n"
    }
   }
  },
  {
   "cell_type": "code",
   "execution_count": 7,
   "outputs": [
    {
     "data": {
      "text/plain": "array([[ 3882.93333333, 10175.37777778],\n       [10175.37777778, 33854.32222222]])"
     },
     "execution_count": 7,
     "metadata": {},
     "output_type": "execute_result"
    }
   ],
   "source": [
    "# найдём несмещённую оценку ковариации при помощи numpy:\n",
    "\n",
    "cov_np_1 = np.cov(zp, ks, ddof=1)\n",
    "\n",
    "cov_np_1"
   ],
   "metadata": {
    "collapsed": false,
    "pycharm": {
     "name": "#%%\n"
    }
   }
  },
  {
   "cell_type": "code",
   "execution_count": 8,
   "outputs": [
    {
     "data": {
      "text/plain": "(10175.37777778, 10175.37777778)"
     },
     "execution_count": 8,
     "metadata": {},
     "output_type": "execute_result"
    }
   ],
   "source": [
    "round(cov_np_1[0][1], 8), round(cov_np_1[1][0], 8)"
   ],
   "metadata": {
    "collapsed": false,
    "pycharm": {
     "name": "#%%\n"
    }
   }
  },
  {
   "cell_type": "code",
   "execution_count": 9,
   "outputs": [],
   "source": [
    "# проверим, что значения совпадают"
   ],
   "metadata": {
    "collapsed": false,
    "pycharm": {
     "name": "#%%\n"
    }
   }
  },
  {
   "cell_type": "code",
   "execution_count": 10,
   "outputs": [
    {
     "data": {
      "text/plain": "True"
     },
     "execution_count": 10,
     "metadata": {},
     "output_type": "execute_result"
    }
   ],
   "source": [
    "cov_1 == round(cov_np_1[0][1], 8)"
   ],
   "metadata": {
    "collapsed": false,
    "pycharm": {
     "name": "#%%\n"
    }
   }
  },
  {
   "cell_type": "code",
   "execution_count": 11,
   "outputs": [
    {
     "data": {
      "text/plain": "True"
     },
     "execution_count": 11,
     "metadata": {},
     "output_type": "execute_result"
    }
   ],
   "source": [
    "cov_1 == round(cov_np_1[1][0], 8)"
   ],
   "metadata": {
    "collapsed": false,
    "pycharm": {
     "name": "#%%\n"
    }
   }
  },
  {
   "cell_type": "code",
   "execution_count": 12,
   "outputs": [
    {
     "data": {
      "text/plain": "9157.84"
     },
     "execution_count": 12,
     "metadata": {},
     "output_type": "execute_result"
    }
   ],
   "source": [
    "# для интереса найдём смещённую ковариацию (по формуле):\n",
    "\n",
    "cov_0 = round(sum([x_ * y_ for x_, y_ in zip(x, y)]) / len(zp), 8)\n",
    "cov_0"
   ],
   "metadata": {
    "collapsed": false,
    "pycharm": {
     "name": "#%%\n"
    }
   }
  },
  {
   "cell_type": "code",
   "execution_count": 13,
   "outputs": [
    {
     "data": {
      "text/plain": "array([[ 3494.64,  9157.84],\n       [ 9157.84, 30468.89]])"
     },
     "execution_count": 13,
     "metadata": {},
     "output_type": "execute_result"
    }
   ],
   "source": [
    "# и в numpy:\n",
    "\n",
    "cov_np_0 = np.cov(zp, ks, ddof=0)\n",
    "cov_np_0"
   ],
   "metadata": {
    "collapsed": false,
    "pycharm": {
     "name": "#%%\n"
    }
   }
  },
  {
   "cell_type": "code",
   "execution_count": 14,
   "outputs": [
    {
     "data": {
      "text/plain": "(9157.84, 9157.84)"
     },
     "execution_count": 14,
     "metadata": {},
     "output_type": "execute_result"
    }
   ],
   "source": [
    "round(cov_np_0[1][0], 8), round(cov_np_0[0][1], 8)"
   ],
   "metadata": {
    "collapsed": false,
    "pycharm": {
     "name": "#%%\n"
    }
   }
  },
  {
   "cell_type": "code",
   "execution_count": 15,
   "outputs": [],
   "source": [
    "# сравним значения, убедимся, что они равны"
   ],
   "metadata": {
    "collapsed": false,
    "pycharm": {
     "name": "#%%\n"
    }
   }
  },
  {
   "cell_type": "code",
   "execution_count": 16,
   "outputs": [
    {
     "data": {
      "text/plain": "True"
     },
     "execution_count": 16,
     "metadata": {},
     "output_type": "execute_result"
    }
   ],
   "source": [
    "cov_0 == round(cov_np_0[1][0], 8)"
   ],
   "metadata": {
    "collapsed": false,
    "pycharm": {
     "name": "#%%\n"
    }
   }
  },
  {
   "cell_type": "code",
   "execution_count": 17,
   "outputs": [
    {
     "data": {
      "text/plain": "True"
     },
     "execution_count": 17,
     "metadata": {},
     "output_type": "execute_result"
    }
   ],
   "source": [
    "cov_0 == round(cov_np_0[0][1], 8)"
   ],
   "metadata": {
    "collapsed": false,
    "pycharm": {
     "name": "#%%\n"
    }
   }
  },
  {
   "cell_type": "code",
   "execution_count": 18,
   "outputs": [
    {
     "data": {
      "text/plain": "(62.31318748, 183.99544076)"
     },
     "execution_count": 18,
     "metadata": {},
     "output_type": "execute_result"
    }
   ],
   "source": [
    "# посчитаем среднеквадратичные отклонения zp и ks по формуле:\n",
    "\n",
    "x_std = round((sum([(i - m_zp) ** 2 for i in zp]) / (len(zp) - 1)) ** 0.5, 8)\n",
    "y_std = round((sum([(j - m_ks) ** 2 for j in ks]) / (len(ks) - 1)) ** 0.5, 8)\n",
    "\n",
    "x_std, y_std"
   ],
   "metadata": {
    "collapsed": false,
    "pycharm": {
     "name": "#%%\n"
    }
   }
  },
  {
   "cell_type": "code",
   "execution_count": 19,
   "outputs": [
    {
     "data": {
      "text/plain": "(62.31318748, 183.99544076)"
     },
     "execution_count": 19,
     "metadata": {},
     "output_type": "execute_result"
    }
   ],
   "source": [
    "# посчитаем среднеквадратичные отклонения zp и ks при помощи numpy:\n",
    "\n",
    "x_std_np = np.std(zp, ddof=1).round(8)\n",
    "y_std_np = np.std(ks, ddof=1).round(8)\n",
    "\n",
    "x_std_np, y_std_np"
   ],
   "metadata": {
    "collapsed": false,
    "pycharm": {
     "name": "#%%\n"
    }
   }
  },
  {
   "cell_type": "code",
   "execution_count": 20,
   "outputs": [],
   "source": [
    "# убедимся, что значения равны друг другу"
   ],
   "metadata": {
    "collapsed": false,
    "pycharm": {
     "name": "#%%\n"
    }
   }
  },
  {
   "cell_type": "code",
   "execution_count": 21,
   "outputs": [
    {
     "data": {
      "text/plain": "True"
     },
     "execution_count": 21,
     "metadata": {},
     "output_type": "execute_result"
    }
   ],
   "source": [
    "x_std == x_std_np"
   ],
   "metadata": {
    "collapsed": false,
    "pycharm": {
     "name": "#%%\n"
    }
   }
  },
  {
   "cell_type": "code",
   "execution_count": 22,
   "outputs": [
    {
     "data": {
      "text/plain": "True"
     },
     "execution_count": 22,
     "metadata": {},
     "output_type": "execute_result"
    }
   ],
   "source": [
    "y_std == y_std_np"
   ],
   "metadata": {
    "collapsed": false,
    "pycharm": {
     "name": "#%%\n"
    }
   }
  },
  {
   "cell_type": "code",
   "execution_count": 23,
   "outputs": [
    {
     "data": {
      "text/plain": "0.88749009"
     },
     "execution_count": 23,
     "metadata": {},
     "output_type": "execute_result"
    }
   ],
   "source": [
    "# найдём коэффициент корреляции Пирсона по формуле:\n",
    "\n",
    "Pearson_r = round(cov_1 / (x_std * y_std), 8)\n",
    "\n",
    "Pearson_r"
   ],
   "metadata": {
    "collapsed": false,
    "pycharm": {
     "name": "#%%\n"
    }
   }
  },
  {
   "cell_type": "code",
   "execution_count": 24,
   "outputs": [
    {
     "data": {
      "text/plain": "array([[1.        , 0.88749009],\n       [0.88749009, 1.        ]])"
     },
     "execution_count": 24,
     "metadata": {},
     "output_type": "execute_result"
    }
   ],
   "source": [
    "# найдём коэффициент корреляции Пирсона при помощи numpy:\n",
    "\n",
    "Pearson_r_np = np.corrcoef(zp, ks)\n",
    "\n",
    "Pearson_r_np"
   ],
   "metadata": {
    "collapsed": false,
    "pycharm": {
     "name": "#%%\n"
    }
   }
  },
  {
   "cell_type": "code",
   "execution_count": 25,
   "outputs": [
    {
     "data": {
      "text/plain": "(0.88749009, 0.88749009)"
     },
     "execution_count": 25,
     "metadata": {},
     "output_type": "execute_result"
    }
   ],
   "source": [
    "round(Pearson_r_np[0][1], 8), round(Pearson_r_np[1][0], 8)"
   ],
   "metadata": {
    "collapsed": false,
    "pycharm": {
     "name": "#%%\n"
    }
   }
  },
  {
   "cell_type": "code",
   "execution_count": 26,
   "outputs": [],
   "source": [
    "# проверим, равны ли получившиеся значения"
   ],
   "metadata": {
    "collapsed": false,
    "pycharm": {
     "name": "#%%\n"
    }
   }
  },
  {
   "cell_type": "code",
   "execution_count": 27,
   "outputs": [
    {
     "data": {
      "text/plain": "True"
     },
     "execution_count": 27,
     "metadata": {},
     "output_type": "execute_result"
    }
   ],
   "source": [
    "Pearson_r == round(Pearson_r_np[0][1], 8)"
   ],
   "metadata": {
    "collapsed": false,
    "pycharm": {
     "name": "#%%\n"
    }
   }
  },
  {
   "cell_type": "code",
   "execution_count": 28,
   "outputs": [
    {
     "data": {
      "text/plain": "True"
     },
     "execution_count": 28,
     "metadata": {},
     "output_type": "execute_result"
    }
   ],
   "source": [
    "Pearson_r == round(Pearson_r_np[1][0], 8)"
   ],
   "metadata": {
    "collapsed": false,
    "pycharm": {
     "name": "#%%\n"
    }
   }
  },
  {
   "cell_type": "code",
   "execution_count": 29,
   "outputs": [
    {
     "data": {
      "text/plain": "         0        0\n0  1.00000  0.88749\n0  0.88749  1.00000",
      "text/html": "<div>\n<style scoped>\n    .dataframe tbody tr th:only-of-type {\n        vertical-align: middle;\n    }\n\n    .dataframe tbody tr th {\n        vertical-align: top;\n    }\n\n    .dataframe thead th {\n        text-align: right;\n    }\n</style>\n<table border=\"1\" class=\"dataframe\">\n  <thead>\n    <tr style=\"text-align: right;\">\n      <th></th>\n      <th>0</th>\n      <th>0</th>\n    </tr>\n  </thead>\n  <tbody>\n    <tr>\n      <th>0</th>\n      <td>1.00000</td>\n      <td>0.88749</td>\n    </tr>\n    <tr>\n      <th>0</th>\n      <td>0.88749</td>\n      <td>1.00000</td>\n    </tr>\n  </tbody>\n</table>\n</div>"
     },
     "execution_count": 29,
     "metadata": {},
     "output_type": "execute_result"
    }
   ],
   "source": [
    "# найдём коэффициент корреляции Пирсона при помощи pandas:\n",
    "\n",
    "Pearson_r_pd = pd.concat([pd.DataFrame(zp), pd.DataFrame(ks)], axis=1).corr(method='pearson')\n",
    "\n",
    "Pearson_r_pd"
   ],
   "metadata": {
    "collapsed": false,
    "pycharm": {
     "name": "#%%\n"
    }
   }
  },
  {
   "cell_type": "code",
   "execution_count": 30,
   "outputs": [
    {
     "data": {
      "text/plain": "(0.88749009, 0.88749009)"
     },
     "execution_count": 30,
     "metadata": {},
     "output_type": "execute_result"
    }
   ],
   "source": [
    "round(Pearson_r_pd.iloc[0].iloc[1], 8), round(Pearson_r_pd.iloc[1].iloc[0], 8)"
   ],
   "metadata": {
    "collapsed": false,
    "pycharm": {
     "name": "#%%\n"
    }
   }
  },
  {
   "cell_type": "code",
   "execution_count": 31,
   "outputs": [],
   "source": [
    "# проверим, соблюдается ли равенство"
   ],
   "metadata": {
    "collapsed": false,
    "pycharm": {
     "name": "#%%\n"
    }
   }
  },
  {
   "cell_type": "code",
   "execution_count": 32,
   "outputs": [
    {
     "data": {
      "text/plain": "True"
     },
     "execution_count": 32,
     "metadata": {},
     "output_type": "execute_result"
    }
   ],
   "source": [
    "Pearson_r == round(Pearson_r_pd.iloc[0].iloc[1], 8)"
   ],
   "metadata": {
    "collapsed": false,
    "pycharm": {
     "name": "#%%\n"
    }
   }
  },
  {
   "cell_type": "code",
   "execution_count": 33,
   "outputs": [
    {
     "data": {
      "text/plain": "True"
     },
     "execution_count": 33,
     "metadata": {},
     "output_type": "execute_result"
    }
   ],
   "source": [
    "Pearson_r == round(Pearson_r_pd.iloc[1].iloc[0], 8)"
   ],
   "metadata": {
    "collapsed": false,
    "pycharm": {
     "name": "#%%\n"
    }
   }
  },
  {
   "cell_type": "markdown",
   "source": [
    "### Задача 2.\n",
    "\n",
    "#### Измерены значения IQ выборки студентов, обучающихся в местных технических вузах:\n",
    "#### 131, 125, 115, 122, 131, 115, 107, 99, 125, 111.\n",
    "#### Известно, что в генеральной совокупности IQ распределён нормально.\n",
    "#### Найдите доверительный интервал для математического ожидания с надёжностью 0.95."
   ],
   "metadata": {
    "collapsed": false,
    "pycharm": {
     "name": "#%% md\n"
    }
   }
  },
  {
   "cell_type": "code",
   "execution_count": 34,
   "outputs": [
    {
     "data": {
      "text/plain": "[131, 125, 115, 122, 131, 115, 107, 99, 125, 111]"
     },
     "execution_count": 34,
     "metadata": {},
     "output_type": "execute_result"
    }
   ],
   "source": [
    "iq = [131, 125, 115, 122, 131, 115, 107, 99, 125, 111]\n",
    "\n",
    "iq"
   ],
   "metadata": {
    "collapsed": false,
    "pycharm": {
     "name": "#%%\n"
    }
   }
  },
  {
   "cell_type": "code",
   "execution_count": 35,
   "outputs": [
    {
     "name": "stdout",
     "output_type": "stream",
     "text": [
      "Размер выборки: 10\n",
      "Уровень доверия: 0.95\n",
      "Уровень значимости: 0.050000000000000044\n",
      "Выборочное среднее: 118.1\n"
     ]
    }
   ],
   "source": [
    "n = len(iq) # объём выборки\n",
    "p = 0.95 # уровень доверия\n",
    "alpha = 1 - p # уровень значимости\n",
    "mean = sum(iq) / n # среднее выборочное\n",
    "\n",
    "print(f'Размер выборки: {n}\\nУровень доверия: {p}\\nУровень значимости: {alpha}\\nВыборочное среднее: {mean}')"
   ],
   "metadata": {
    "collapsed": false,
    "pycharm": {
     "name": "#%%\n"
    }
   }
  },
  {
   "cell_type": "code",
   "execution_count": 36,
   "outputs": [
    {
     "data": {
      "text/plain": "(-2.2621571627409915, 2.2621571627409915)"
     },
     "execution_count": 36,
     "metadata": {},
     "output_type": "execute_result"
    }
   ],
   "source": [
    "# считаем квантили:\n",
    "\n",
    "t1 = stats.t.ppf(alpha / 2, df=n - 1)\n",
    "t2 = stats.t.ppf(1 - alpha / 2, df=n - 1)\n",
    "\n",
    "t1, t2"
   ],
   "metadata": {
    "collapsed": false,
    "pycharm": {
     "name": "#%%\n"
    }
   }
  },
  {
   "cell_type": "code",
   "execution_count": 37,
   "outputs": [
    {
     "data": {
      "text/plain": "(110.55608365158724, 125.64391634841274)"
     },
     "execution_count": 37,
     "metadata": {},
     "output_type": "execute_result"
    }
   ],
   "source": [
    "# найдём доверительный интервал по формуле:\n",
    "\n",
    "interval = mean + t1 * np.std(iq, ddof=1) / np.sqrt(n), mean + t2 * np.std(iq, ddof=1) / np.sqrt(n)\n",
    "\n",
    "interval"
   ],
   "metadata": {
    "collapsed": false,
    "pycharm": {
     "name": "#%%\n"
    }
   }
  },
  {
   "cell_type": "code",
   "execution_count": 38,
   "outputs": [
    {
     "data": {
      "text/plain": "(110.55608365158724, 125.64391634841274)"
     },
     "execution_count": 38,
     "metadata": {},
     "output_type": "execute_result"
    }
   ],
   "source": [
    "# найдём доверительный интервал при помощи stats.t.interval:\n",
    "\n",
    "stats.t.interval(0.95, len(iq) - 1, loc=np.mean(iq), scale=stats.sem(iq))"
   ],
   "metadata": {
    "collapsed": false,
    "pycharm": {
     "name": "#%%\n"
    }
   }
  },
  {
   "cell_type": "code",
   "execution_count": 39,
   "outputs": [
    {
     "data": {
      "text/plain": "15.0878327"
     },
     "execution_count": 39,
     "metadata": {},
     "output_type": "execute_result"
    }
   ],
   "source": [
    "# посчитаем ширину доверительного интервала:\n",
    "\n",
    "l = interval[0]\n",
    "u = interval[1]\n",
    "\n",
    "round((u - l), 8)"
   ],
   "metadata": {
    "collapsed": false,
    "pycharm": {
     "name": "#%%\n"
    }
   }
  },
  {
   "cell_type": "markdown",
   "source": [
    "### Задача 3.\n",
    "\n",
    "#### Известно, что рост футболистов в сборной распределён нормально с дисперсией генеральной совокупности, равной 25 кв.см.\n",
    "#### Объём выборки равен 27, среднее выборочное составляет 174.2.\n",
    "#### Найдите доверительный интервал для математического ожидания с надёжностью 0.95."
   ],
   "metadata": {
    "collapsed": false,
    "pycharm": {
     "name": "#%% md\n"
    }
   }
  },
  {
   "cell_type": "code",
   "execution_count": 40,
   "outputs": [
    {
     "name": "stdout",
     "output_type": "stream",
     "text": [
      "Объём выборки: 27\n",
      "Среднее выборочное: 174.2\n",
      "Уровень доверия: 0.95\n",
      "Уровень значимости: 0.050000000000000044\n",
      "Дисперсия: 25\n",
      "Среднеквадратичное отклонение: 5.0\n"
     ]
    }
   ],
   "source": [
    "n = 27 # объём выборки\n",
    "mean = 174.2 # среднее выборочное\n",
    "p = 0.95 # уровень доверия\n",
    "alpha = 1 - p # уровень значимости\n",
    "d = 25 # дисперсия\n",
    "std = np.sqrt(d) # среднеквадратичное отклонение\n",
    "\n",
    "print(f'Объём выборки: {n}\\nСреднее выборочное: {mean}\\nУровень доверия: {p}\\nУровень значимости: {alpha}\\nДисперсия: {d}\\nСреднеквадратичное отклонение: {std}')"
   ],
   "metadata": {
    "collapsed": false,
    "pycharm": {
     "name": "#%%\n"
    }
   }
  },
  {
   "cell_type": "code",
   "execution_count": 41,
   "outputs": [
    {
     "data": {
      "text/plain": "(-1.959963984540054, 1.959963984540054)"
     },
     "execution_count": 41,
     "metadata": {},
     "output_type": "execute_result"
    }
   ],
   "source": [
    "# считаем квантили:\n",
    "\n",
    "t1 = stats.norm.ppf(alpha / 2)\n",
    "t2 = stats.norm.ppf(1 - alpha / 2)\n",
    "\n",
    "t1, t2"
   ],
   "metadata": {
    "collapsed": false,
    "pycharm": {
     "name": "#%%\n"
    }
   }
  },
  {
   "cell_type": "code",
   "execution_count": 42,
   "outputs": [
    {
     "data": {
      "text/plain": "(172.3140237765397, 176.08597622346028)"
     },
     "execution_count": 42,
     "metadata": {},
     "output_type": "execute_result"
    }
   ],
   "source": [
    "# найдём доверительный интервал по формуле:\n",
    "\n",
    "interval = mean + t1 * std / np.sqrt(n), mean + t2 * std / np.sqrt(n)\n",
    "\n",
    "interval"
   ],
   "metadata": {
    "collapsed": false,
    "pycharm": {
     "name": "#%%\n"
    }
   }
  },
  {
   "cell_type": "code",
   "execution_count": 43,
   "outputs": [
    {
     "data": {
      "text/plain": "(172.3140237765397, 176.08597622346028)"
     },
     "execution_count": 43,
     "metadata": {},
     "output_type": "execute_result"
    }
   ],
   "source": [
    "# найдём доверительный интервал при помощи stats.norm.interval:\n",
    "\n",
    "stats.norm.interval(0.95, loc=mean, scale=std / np.sqrt(n))"
   ],
   "metadata": {
    "collapsed": false,
    "pycharm": {
     "name": "#%%\n"
    }
   }
  },
  {
   "cell_type": "code",
   "execution_count": 44,
   "outputs": [
    {
     "data": {
      "text/plain": "3.77195245"
     },
     "execution_count": 44,
     "metadata": {},
     "output_type": "execute_result"
    }
   ],
   "source": [
    "# посчитаем ширину доверительного интервала:\n",
    "\n",
    "l = interval[0]\n",
    "u = interval[1]\n",
    "\n",
    "round((u - l), 8)"
   ],
   "metadata": {
    "collapsed": false,
    "pycharm": {
     "name": "#%%\n"
    }
   }
  },
  {
   "cell_type": "markdown",
   "source": [
    "### Задача 4.\n",
    "\n",
    "#### Проведите тест на значимость коэффициента корреляции Пирсона, найденного в задаче 1. Что для этого нужно знать:\n",
    "#### * Нулевая гипотеза: реальный коэффициент корреляции равен 0. Альтернативная гипотеза двухсторонняя.\n",
    "#### * Статистика: t = r * sqrt(n - 2) / sqrt(1 - r ** 2), где r - коэффициент корреляции Пирсона, посчитанный по выборке.\n",
    "#### * В предположении верности нулевой гипотезы эта статистика имеет распределение Стьюдента с параметром df = n - 2.\n",
    "#### В качестве ответа запишите 1, если нулевая гипотеза верна, и 0 иначе."
   ],
   "metadata": {
    "collapsed": false,
    "pycharm": {
     "name": "#%% md\n"
    }
   }
  },
  {
   "cell_type": "code",
   "execution_count": 45,
   "outputs": [
    {
     "name": "stdout",
     "output_type": "stream",
     "text": [
      "Объём выборки: 10\n"
     ]
    }
   ],
   "source": [
    "n = len(zp) # объём выборки\n",
    "\n",
    "print(f'Объём выборки: {n}')"
   ],
   "metadata": {
    "collapsed": false,
    "pycharm": {
     "name": "#%%\n"
    }
   }
  },
  {
   "cell_type": "code",
   "execution_count": 46,
   "outputs": [
    {
     "name": "stdout",
     "output_type": "stream",
     "text": [
      "Значение статистики: 5.44716809\n"
     ]
    }
   ],
   "source": [
    "# посчитаем значение статистики:\n",
    "\n",
    "t = round(Pearson_r * np.sqrt(n - 2) / np.sqrt(1 - Pearson_r ** 2), 8)\n",
    "\n",
    "print(f'Значение статистики: {t}')"
   ],
   "metadata": {
    "collapsed": false,
    "pycharm": {
     "name": "#%%\n"
    }
   }
  },
  {
   "cell_type": "code",
   "execution_count": 47,
   "outputs": [
    {
     "name": "stdout",
     "output_type": "stream",
     "text": [
      "P-значение: 0.00061075\n"
     ]
    }
   ],
   "source": [
    "# найдём P-значение:\n",
    "\n",
    "p_left = stats.t.cdf(t, df=n - 2)\n",
    "p_right = 1 - stats.t.cdf(t, df=n - 2)\n",
    "\n",
    "pvalue = round(2 * min(p_left, p_right), 8)\n",
    "\n",
    "print(f'P-значение: {pvalue}')"
   ],
   "metadata": {
    "collapsed": false,
    "pycharm": {
     "name": "#%%\n"
    }
   }
  },
  {
   "cell_type": "code",
   "execution_count": 48,
   "outputs": [
    {
     "data": {
      "text/plain": "1.4099809620622528"
     },
     "execution_count": 48,
     "metadata": {},
     "output_type": "execute_result"
    }
   ],
   "source": [
    "# рассчитаем доверительный интервал для коэффициента корреляции Пирсона\n",
    "# воспользуемся z-преобразованием Фишера:\n",
    "\n",
    "z = 0.5 * (np.log((1 + Pearson_r) / (1 - Pearson_r)))\n",
    "\n",
    "z"
   ],
   "metadata": {
    "collapsed": false,
    "pycharm": {
     "name": "#%%\n"
    }
   }
  },
  {
   "cell_type": "code",
   "execution_count": 49,
   "outputs": [
    {
     "name": "stdout",
     "output_type": "stream",
     "text": [
      "Нижняя граница: 0.6691705949641674\n",
      "Верхняя граница: 2.150791329160338\n"
     ]
    }
   ],
   "source": [
    "# посчитаем границы преобразованного 95 % доверительного интервала для коэффициента корреляции Пирсона:\n",
    "\n",
    "z_left = z - 1.96 / np.sqrt(n - 3) # нижняя граница\n",
    "z_right = z + 1.96 / np.sqrt(n - 3) # верхняя граница\n",
    "\n",
    "print(f'Нижняя граница: {z_left}\\nВерхняя граница: {z_right}')"
   ],
   "metadata": {
    "collapsed": false,
    "pycharm": {
     "name": "#%%\n"
    }
   }
  },
  {
   "cell_type": "code",
   "execution_count": 50,
   "outputs": [
    {
     "data": {
      "text/plain": "(0.58443404, 0.97326794)"
     },
     "execution_count": 50,
     "metadata": {},
     "output_type": "execute_result"
    }
   ],
   "source": [
    "# считаем 95% доверительный интервал для коэффициента корреляции Пирсона:\n",
    "\n",
    "l = round((np.exp(z_left) ** 2 - 1) / (np.exp(z_left) ** 2 + 1), 8)\n",
    "u = round((np.exp(z_right) ** 2 - 1) / (np.exp(z_right) ** 2 + 1), 8)\n",
    "\n",
    "l, u"
   ],
   "metadata": {
    "collapsed": false,
    "pycharm": {
     "name": "#%%\n"
    }
   }
  },
  {
   "cell_type": "code",
   "execution_count": 51,
   "outputs": [
    {
     "name": "stdout",
     "output_type": "stream",
     "text": [
      "P-значение (0.00061075) меньше, чем alpha (0.05).\n",
      "Соответственно, гипотезу H0 следует отвергнуть.\n",
      "Также, исходя из гипотезы H0, реальный коэффициент корреляции Пирсона равен 0.\n",
      "0 не попадает в 95% доверительный интервал для коэффициента корреляции Пирсона: (0.58443404, 0.97326794)\n"
     ]
    }
   ],
   "source": [
    "print(f'P-значение ({pvalue}) меньше, чем alpha ({round(alpha, 2)}).\\n'\n",
    "      f'Соответственно, гипотезу H0 следует отвергнуть.\\n'\n",
    "      f'Также, исходя из гипотезы H0, реальный коэффициент корреляции Пирсона равен 0.\\n'\n",
    "      f'0 не попадает в 95% доверительный интервал для коэффициента корреляции Пирсона: {l, u}')"
   ],
   "metadata": {
    "collapsed": false,
    "pycharm": {
     "name": "#%%\n"
    }
   }
  },
  {
   "cell_type": "code",
   "execution_count": 52,
   "outputs": [
    {
     "name": "stdout",
     "output_type": "stream",
     "text": [
      "Ответ: 0\n"
     ]
    }
   ],
   "source": [
    "if pvalue > alpha:\n",
    "      print('Ответ: 1')\n",
    "else:\n",
    "      print('Ответ: 0')"
   ],
   "metadata": {
    "collapsed": false,
    "pycharm": {
     "name": "#%%\n"
    }
   }
  },
  {
   "cell_type": "code",
   "execution_count": 52,
   "outputs": [],
   "source": [],
   "metadata": {
    "collapsed": false,
    "pycharm": {
     "name": "#%%\n"
    }
   }
  }
 ],
 "metadata": {
  "kernelspec": {
   "display_name": "Python 3",
   "language": "python",
   "name": "python3"
  },
  "language_info": {
   "codemirror_mode": {
    "name": "ipython",
    "version": 2
   },
   "file_extension": ".py",
   "mimetype": "text/x-python",
   "name": "python",
   "nbconvert_exporter": "python",
   "pygments_lexer": "ipython2",
   "version": "2.7.6"
  }
 },
 "nbformat": 4,
 "nbformat_minor": 0
}