{
 "cells": [
  {
   "cell_type": "code",
   "execution_count": 1,
   "metadata": {
    "collapsed": true
   },
   "outputs": [],
   "source": [
    "import numpy as np\n",
    "from scipy import stats"
   ]
  },
  {
   "cell_type": "markdown",
   "source": [
    "### Задача 1.\n",
    "\n",
    "#### Известно, что генеральная совокупность распределена нормально с известным средним квадратическим отклонением 16.\n",
    "#### Найти ширину доверительного интервала для оценки математического ожидания mu с надёжностью 0.95,\n",
    "#### если выборочное среднее равно 80, а объём выборки равен 256."
   ],
   "metadata": {
    "collapsed": false,
    "pycharm": {
     "name": "#%% md\n"
    }
   }
  },
  {
   "cell_type": "code",
   "execution_count": 2,
   "outputs": [
    {
     "name": "stdout",
     "output_type": "stream",
     "text": [
      "Среднее квадратическое отклонение = 16\n",
      "Уровень доверия = 0.95\n",
      "Выборочное среднее = 80\n",
      "Объём выборки = 256\n"
     ]
    }
   ],
   "source": [
    "# дано:\n",
    "\n",
    "std = 16 # среднее квадратическое отклонение\n",
    "p = 0.95 # уровень доверия\n",
    "mean = 80 # выборочное среднее\n",
    "n = 256 # объём выборки\n",
    "\n",
    "print(f'Среднее квадратическое отклонение = {std}\\nУровень доверия = {p}\\nВыборочное среднее = {mean}\\nОбъём выборки = {n}')"
   ],
   "metadata": {
    "collapsed": false,
    "pycharm": {
     "name": "#%%\n"
    }
   }
  },
  {
   "cell_type": "code",
   "execution_count": 3,
   "outputs": [
    {
     "data": {
      "text/plain": "(-1.959963984540054, 1.959963984540054)"
     },
     "execution_count": 3,
     "metadata": {},
     "output_type": "execute_result"
    }
   ],
   "source": [
    "alpha = 1 - p # уровень значимости\n",
    "\n",
    "# считаем квантили:\n",
    "\n",
    "t1 = stats.norm.ppf(alpha / 2)\n",
    "t2 = stats.norm.ppf(1 - alpha / 2)\n",
    "\n",
    "t1, t2"
   ],
   "metadata": {
    "collapsed": false,
    "pycharm": {
     "name": "#%%\n"
    }
   }
  },
  {
   "cell_type": "code",
   "execution_count": 4,
   "outputs": [
    {
     "name": "stdout",
     "output_type": "stream",
     "text": [
      "Ширина доверительного интервала = 3.91992797\n"
     ]
    }
   ],
   "source": [
    "# найдём ширину доверительного интервала:\n",
    "\n",
    "print(f'Ширина доверительного интервала = {round((mean + t2 * std / np.sqrt(n)) - (mean + t1 * std / np.sqrt(n)), 8)}')"
   ],
   "metadata": {
    "collapsed": false,
    "pycharm": {
     "name": "#%%\n"
    }
   }
  },
  {
   "cell_type": "markdown",
   "source": [
    "### Задача 2.\n",
    "\n",
    "#### Продавец утверждает, что средний вес пачки печенья составляет 200 г.\n",
    "#### Из партии извлечена выборка из 10 пачек. Вес каждой пачки составляет:\n",
    "#### 202, 203, 199, 197, 195, 201, 200, 204, 194, 190\n",
    "#### Известно, что их веса распределены нормально.\n",
    "#### Верно ли утверждение продавца, если учитывать, что уровень значимости равен 1%?\n",
    "#### Найдите P-значение для данного теста и укажите его в качестве ответа."
   ],
   "metadata": {
    "collapsed": false,
    "pycharm": {
     "name": "#%% md\n"
    }
   }
  },
  {
   "cell_type": "code",
   "execution_count": 5,
   "outputs": [
    {
     "name": "stdout",
     "output_type": "stream",
     "text": [
      "Средний вес пачки = 200\n",
      "Выборка с весами пачек: [202 203 199 197 195 201 200 204 194 190]\n",
      "Уровень значимости = 0.01\n"
     ]
    }
   ],
   "source": [
    "# дано:\n",
    "\n",
    "mean = 200 # средний вес пачки\n",
    "samples = np.array([202, 203, 199, 197, 195, 201, 200, 204, 194, 190]) # выборка с весами пачек\n",
    "alpha = 0.01 # уровень значимости\n",
    "\n",
    "print(f'Средний вес пачки = {mean}\\nВыборка с весами пачек: {samples}\\nУровень значимости = {alpha}')"
   ],
   "metadata": {
    "collapsed": false,
    "pycharm": {
     "name": "#%%\n"
    }
   }
  },
  {
   "cell_type": "code",
   "execution_count": 6,
   "outputs": [
    {
     "name": "stdout",
     "output_type": "stream",
     "text": [
      "Объём выборки = 10\n"
     ]
    }
   ],
   "source": [
    "# посчитаем объём выборки:\n",
    "\n",
    "n = samples.shape[0]\n",
    "\n",
    "print(f'Объём выборки = {n}')"
   ],
   "metadata": {
    "collapsed": false,
    "pycharm": {
     "name": "#%%\n"
    }
   }
  },
  {
   "cell_type": "code",
   "execution_count": 7,
   "outputs": [
    {
     "data": {
      "text/plain": "(-3.24983554401537, 3.2498355440153697)"
     },
     "execution_count": 7,
     "metadata": {},
     "output_type": "execute_result"
    }
   ],
   "source": [
    "# считаем квантили:\n",
    "\n",
    "t1 = stats.t.ppf(alpha / 2, df=n - 1)\n",
    "t2 = stats.t.ppf(1 - alpha / 2, df=n - 1)\n",
    "\n",
    "t1, t2"
   ],
   "metadata": {
    "collapsed": false,
    "pycharm": {
     "name": "#%%\n"
    }
   }
  },
  {
   "cell_type": "code",
   "execution_count": 8,
   "outputs": [
    {
     "data": {
      "text/plain": "-1.0651074037450896"
     },
     "execution_count": 8,
     "metadata": {},
     "output_type": "execute_result"
    }
   ],
   "source": [
    "# для подсчёта статистики используем t-статистику, поскольку мы не знаем дисперсию:\n",
    "\n",
    "S = (samples.mean() - mean) / (samples.std(ddof=1) / np.sqrt(n))\n",
    "\n",
    "S"
   ],
   "metadata": {
    "collapsed": false,
    "pycharm": {
     "name": "#%%\n"
    }
   }
  },
  {
   "cell_type": "code",
   "execution_count": 9,
   "outputs": [
    {
     "name": "stdout",
     "output_type": "stream",
     "text": [
      "P-значение = 0.3145666\n"
     ]
    }
   ],
   "source": [
    "# найдём P-значение:\n",
    "\n",
    "p_left = stats.t.cdf(S, df=n - 1) # левая сторона\n",
    "p_right = 1 - stats.t.cdf(S, df=n - 1) # правая сторона\n",
    "\n",
    "pvalue = round(2 * min(p_left, p_right), 8) # P-значение\n",
    "\n",
    "print(f'P-значение = {pvalue}')"
   ],
   "metadata": {
    "collapsed": false,
    "pycharm": {
     "name": "#%%\n"
    }
   }
  },
  {
   "cell_type": "markdown",
   "source": [
    "### Задача 3.\n",
    "\n",
    "#### Дана выборка диаметров подшипников из примера 1 с занятия 5:\n",
    "#### samples = [0.6603, 0.9466, 0.5968, 1.3792, 1.5481, 0.7515, 1.0681, 1.1134, 1.2088, 1.701 , 1.0282, 1.3579, 1.0191, 1.1784,\n",
    "#### 1.1168, 1.1372, 0.7273, 1.3958, 0.8665, 1.5112, 1.161 , 1.0232, 1.0865, 1.02]\n",
    "#### Предполагая, что диаметры подшипников распределены нормально, проверьте гипотезу о том,\n",
    "#### что дисперсия случайной величины равна 0.0625 при уровне значимости alpha = 0.05.\n",
    "#### Что для этого нужно знать:\n",
    "#### 1. Альтернативная гипотеза двусторонняя.\n",
    "#### 2. Статистика для теста: H = (n - 1) * sample_variance / variance, где n - число элементов в выборке,\n",
    "#### sample_variance - несмещённая оценка дисперсии, variance - утверждаемая нулевой гипотезой дисперсия.\n",
    "#### 3. Эта статистика в предположении верности нулевой гипотезы имеет распределение хи-квадрат с параметром df = n - 1.\n",
    "#### Её квантили можно найти с помощью функции scipy.stats.chi2.ppf.\n",
    "#### В качестве ответа запишите 1, если нулевая гипотеза верна, и 0 иначе."
   ],
   "metadata": {
    "collapsed": false,
    "pycharm": {
     "name": "#%% md\n"
    }
   }
  },
  {
   "cell_type": "code",
   "execution_count": 10,
   "outputs": [],
   "source": [
    "# выборка диаметров подшипников:\n",
    "\n",
    "samples = np.array([0.6603, 0.9466, 0.5968, 1.3792, 1.5481, 0.7515, 1.0681, 1.1134,\n",
    "                    1.2088, 1.701, 1.0282, 1.3579, 1.0191, 1.1784, 1.1168, 1.1372,\n",
    "                    0.7273, 1.3958, 0.8665, 1.5112, 1.161, 1.0232, 1.0865, 1.02])"
   ],
   "metadata": {
    "collapsed": false,
    "pycharm": {
     "name": "#%%\n"
    }
   }
  },
  {
   "cell_type": "code",
   "execution_count": 11,
   "outputs": [
    {
     "name": "stdout",
     "output_type": "stream",
     "text": [
      "Дисперсия = 0.0625\n",
      "Уровень значимости = 0.05\n"
     ]
    }
   ],
   "source": [
    "# дано:\n",
    "\n",
    "variance = 0.0625 # дисперсия\n",
    "alpha = 0.05 # уровень значимости\n",
    "\n",
    "print(f'Дисперсия = {variance}\\nУровень значимости = {alpha}')"
   ],
   "metadata": {
    "collapsed": false,
    "pycharm": {
     "name": "#%%\n"
    }
   }
  },
  {
   "cell_type": "code",
   "execution_count": 12,
   "outputs": [
    {
     "name": "stdout",
     "output_type": "stream",
     "text": [
      "Объём выборки = 24\n"
     ]
    }
   ],
   "source": [
    "# посчитаем объём выборки:\n",
    "\n",
    "n = samples.shape[0]\n",
    "\n",
    "print(f'Объём выборки = {n}')"
   ],
   "metadata": {
    "collapsed": false,
    "pycharm": {
     "name": "#%%\n"
    }
   }
  },
  {
   "cell_type": "code",
   "execution_count": 13,
   "outputs": [
    {
     "name": "stdout",
     "output_type": "stream",
     "text": [
      "Несмещённая оценка дисперсии = 0.07804495041666669\n"
     ]
    }
   ],
   "source": [
    "# найдём несмещённую оценку дисперсии\n",
    "\n",
    "sample_variance = np.sum((samples - samples.mean()) ** 2) / (n - 1)\n",
    "\n",
    "print(f'Несмещённая оценка дисперсии = {sample_variance}')"
   ],
   "metadata": {
    "collapsed": false,
    "pycharm": {
     "name": "#%%\n"
    }
   }
  },
  {
   "cell_type": "code",
   "execution_count": 14,
   "outputs": [
    {
     "name": "stdout",
     "output_type": "stream",
     "text": [
      "Значение статистики = 28.720541753333343\n"
     ]
    }
   ],
   "source": [
    "# вычисляем значение статистики:\n",
    "\n",
    "H = (n - 1) * sample_variance / variance\n",
    "\n",
    "print(f'Значение статистики = {H}')"
   ],
   "metadata": {
    "collapsed": false,
    "pycharm": {
     "name": "#%%\n"
    }
   }
  },
  {
   "cell_type": "code",
   "execution_count": 15,
   "outputs": [
    {
     "data": {
      "text/plain": "(11.688551922452438, 38.0756272503558)"
     },
     "execution_count": 15,
     "metadata": {},
     "output_type": "execute_result"
    }
   ],
   "source": [
    "# считаем квантили:\n",
    "\n",
    "t1 = stats.chi2.ppf(alpha / 2, df=n - 1)\n",
    "t2 = stats.chi2.ppf(1 - alpha / 2, df=n - 1)\n",
    "\n",
    "t1, t2"
   ],
   "metadata": {
    "collapsed": false,
    "pycharm": {
     "name": "#%%\n"
    }
   }
  },
  {
   "cell_type": "code",
   "execution_count": 16,
   "outputs": [
    {
     "name": "stdout",
     "output_type": "stream",
     "text": [
      "Так как альтернативная гипотеза - двусторонняя, то критическая область имеет вид t1 < H < t2\n",
      "\n",
      "H больше t1 и меньше t2. Соответственно, выдвинутую гипотезу H0 можно принять\n"
     ]
    }
   ],
   "source": [
    "print('Так как альтернативная гипотеза - двусторонняя, то критическая область имеет вид t1 < H < t2')\n",
    "print()\n",
    "print('H больше t1 и меньше t2. Соответственно, выдвинутую гипотезу H0 можно принять')"
   ],
   "metadata": {
    "collapsed": false,
    "pycharm": {
     "name": "#%%\n"
    }
   }
  },
  {
   "cell_type": "code",
   "execution_count": 17,
   "outputs": [
    {
     "name": "stdout",
     "output_type": "stream",
     "text": [
      "Ответ: 1\n"
     ]
    }
   ],
   "source": [
    "if t1 < H < t2:\n",
    "    print('Ответ: 1')\n",
    "else:\n",
    "    print('Ответ: 0')"
   ],
   "metadata": {
    "collapsed": false,
    "pycharm": {
     "name": "#%%\n"
    }
   }
  },
  {
   "cell_type": "code",
   "execution_count": 17,
   "outputs": [],
   "source": [],
   "metadata": {
    "collapsed": false,
    "pycharm": {
     "name": "#%%\n"
    }
   }
  }
 ],
 "metadata": {
  "kernelspec": {
   "display_name": "Python 3",
   "language": "python",
   "name": "python3"
  },
  "language_info": {
   "codemirror_mode": {
    "name": "ipython",
    "version": 2
   },
   "file_extension": ".py",
   "mimetype": "text/x-python",
   "name": "python",
   "nbconvert_exporter": "python",
   "pygments_lexer": "ipython2",
   "version": "2.7.6"
  }
 },
 "nbformat": 4,
 "nbformat_minor": 0
}