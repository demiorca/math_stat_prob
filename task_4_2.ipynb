{
 "cells": [
  {
   "cell_type": "code",
   "execution_count": 1,
   "metadata": {
    "collapsed": true
   },
   "outputs": [],
   "source": [
    "import numpy as np\n",
    "from scipy import stats"
   ]
  },
  {
   "cell_type": "markdown",
   "source": [
    "### Задача 1.\n",
    "\n",
    "#### Случайная непрерывная величина A имеет равномерное распределение на промежутке (200, 800].\n",
    "#### Найдите её среднее значение и дисперсию."
   ],
   "metadata": {
    "collapsed": false,
    "pycharm": {
     "name": "#%% md\n"
    }
   }
  },
  {
   "cell_type": "code",
   "execution_count": 2,
   "outputs": [],
   "source": [
    "# промежуток (200, 800], 200 исключая и 800 включая"
   ],
   "metadata": {
    "collapsed": false,
    "pycharm": {
     "name": "#%%\n"
    }
   }
  },
  {
   "cell_type": "code",
   "execution_count": 3,
   "outputs": [],
   "source": [
    "a = 201\n",
    "b = 800"
   ],
   "metadata": {
    "collapsed": false,
    "pycharm": {
     "name": "#%%\n"
    }
   }
  },
  {
   "cell_type": "code",
   "execution_count": 4,
   "outputs": [
    {
     "name": "stdout",
     "output_type": "stream",
     "text": [
      "Среднее значение = 500.5\n"
     ]
    }
   ],
   "source": [
    "m = (a + b) / 2 # среднее значение\n",
    "print(f'Среднее значение = {m}')"
   ],
   "metadata": {
    "collapsed": false,
    "pycharm": {
     "name": "#%%\n"
    }
   }
  },
  {
   "cell_type": "code",
   "execution_count": 5,
   "outputs": [
    {
     "name": "stdout",
     "output_type": "stream",
     "text": [
      "Дисперсия = 29900.083333333332\n"
     ]
    }
   ],
   "source": [
    "d = (b - a) ** 2 / 12 # дисперсия\n",
    "print(f'Дисперсия = {d}')"
   ],
   "metadata": {
    "collapsed": false,
    "pycharm": {
     "name": "#%%\n"
    }
   }
  },
  {
   "cell_type": "markdown",
   "source": [
    "### Задача 2.\n",
    "\n",
    "#### О случайной непрерывной равномерно распределённой величине B известно, что её дисперсия равна 0.2.\n",
    "#### Можно ли найти правую границу величины B и её среднее значение зная, что левая граница равна 0.5?\n",
    "#### Если да, найдите её."
   ],
   "metadata": {
    "collapsed": false,
    "pycharm": {
     "name": "#%% md\n"
    }
   }
  },
  {
   "cell_type": "code",
   "execution_count": 6,
   "outputs": [
    {
     "data": {
      "text/plain": "(0.2, 0.5)"
     },
     "execution_count": 6,
     "metadata": {},
     "output_type": "execute_result"
    }
   ],
   "source": [
    "d = 0.2 # дисперсия\n",
    "a = 0.5 # левая граница величины B\n",
    "\n",
    "# b = ?\n",
    "# m = ?\n",
    "\n",
    "d, a"
   ],
   "metadata": {
    "collapsed": false,
    "pycharm": {
     "name": "#%%\n"
    }
   }
  },
  {
   "cell_type": "code",
   "source": [
    "# d = (b - a) ** 2 / 12\n",
    "# 0.2 = (b - 0.5) ** 2 / 12\n",
    "# (b - 0.5) ** 2 = 12 * 0.2\n",
    "# (b - 0.5) ** 2 = 2.4\n",
    "# b - 0.5 = sqrt(2.4)\n",
    "# b - 0.5 = 1.55\n",
    "# b = 1.55 + 0.5\n",
    "# b = 2.05\n",
    "\n",
    "b = 1.55 + a # правая граница величины B\n",
    "print(f'Правая граница величины B = {b}')"
   ],
   "metadata": {
    "collapsed": false,
    "pycharm": {
     "name": "#%%\n"
    }
   },
   "execution_count": 7,
   "outputs": [
    {
     "name": "stdout",
     "output_type": "stream",
     "text": [
      "Правая граница величины B = 2.05\n"
     ]
    }
   ]
  },
  {
   "cell_type": "code",
   "execution_count": 8,
   "outputs": [
    {
     "name": "stdout",
     "output_type": "stream",
     "text": [
      "Среднее значение = 1.275\n"
     ]
    }
   ],
   "source": [
    "# m = (a + b) / 2\n",
    "# m = (0.5 + 2.05) / 2\n",
    "# m = 2.55 / 2\n",
    "# m = 1.275\n",
    "\n",
    "m = (a + b) / 2 # среднее значение\n",
    "print(f'Среднее значение = {m}')"
   ],
   "metadata": {
    "collapsed": false,
    "pycharm": {
     "name": "#%%\n"
    }
   }
  },
  {
   "cell_type": "markdown",
   "source": [
    "### Задача 3.\n",
    "\n",
    "#### Непрерывная случайная величина X распределена нормально и задана плотностью распределения\n",
    "#### f(x) = (1 / (4 * sqrt(2*pi))) * (exp(-(x+2)**2) / 32).\n",
    "#### Найдите:\n",
    "#### а) M(X)\n",
    "#### б) D(X)\n",
    "#### в) std(X) (среднее квадратичное отклонение)"
   ],
   "metadata": {
    "collapsed": false,
    "pycharm": {
     "name": "#%% md\n"
    }
   }
  },
  {
   "cell_type": "code",
   "execution_count": 9,
   "outputs": [
    {
     "data": {
      "text/plain": "(-2, 4)"
     },
     "execution_count": 9,
     "metadata": {},
     "output_type": "execute_result"
    }
   ],
   "source": [
    "# (1 / sqrt(2 * pi * sigma ** 2)) * exp * (- (x - mu) ** 2 / (2 * sigma ** 2))\n",
    "# (1 / (4 * sqrt(2 * pi))) * exp * (- (x + 2) ** 2 / 32)\n",
    "# mu = -2\n",
    "# 2 * sigma ** 2 = 32\n",
    "# sigma ** 2 = 16\n",
    "# sigma = 4\n",
    "\n",
    "mu = -2 # математическое ожидание M(X)\n",
    "sigma = 4 # среднее квадратичное отклонение std(X)\n",
    "mu, sigma"
   ],
   "metadata": {
    "collapsed": false,
    "pycharm": {
     "name": "#%%\n"
    }
   }
  },
  {
   "cell_type": "code",
   "execution_count": 10,
   "outputs": [
    {
     "name": "stdout",
     "output_type": "stream",
     "text": [
      "Математическое ожидание = -2\n",
      "Дисперсия = 16\n",
      "Среднее квадратичное отклонение = 4\n"
     ]
    }
   ],
   "source": [
    "# m = mu\n",
    "# m = -2\n",
    "# d = sigma ** 2\n",
    "# d = 4 ** 2\n",
    "# d = 16\n",
    "# std = sigma\n",
    "# std = 4\n",
    "\n",
    "m = mu # математическое ожидание M(X)\n",
    "d = sigma ** 2 # дисперсия D(X)\n",
    "std = sigma # среднее квадратичное отклонение std(X)\n",
    "print(f'Математическое ожидание = {m}\\nДисперсия = {d}\\nСреднее квадратичное отклонение = {std}')"
   ],
   "metadata": {
    "collapsed": false,
    "pycharm": {
     "name": "#%%\n"
    }
   }
  },
  {
   "cell_type": "markdown",
   "source": [
    "### Задача 4.\n",
    "\n",
    "#### Рост взрослого населения города X имеет нормальное распределение.\n",
    "#### Причём, средний рост равен 174 см, а среднее квадратичное отклонение равно 8 см.\n",
    "#### Какова вероятность того, что случайным образом выбранный взрослый человек имеет рост:\n",
    "#### а) больше 182 см\n",
    "#### б) больше 190 см\n",
    "#### в) от 166 см до 190 см\n",
    "#### г) от 166 см до 182 см\n",
    "#### д) от 158 см до 190 см\n",
    "#### е) не выше 150 см или не ниже 190 см\n",
    "#### ё) не выше 150 см или не ниже 198 см\n",
    "#### ж) ниже 166 см"
   ],
   "metadata": {
    "collapsed": false,
    "pycharm": {
     "name": "#%% md\n"
    }
   }
  },
  {
   "cell_type": "code",
   "execution_count": 11,
   "outputs": [],
   "source": [
    "# воспользуемся функцией stats.norm.cdf - функцией распределения\n",
    "# зная функцию распределения, можно определить искомую вероятность\n",
    "# np.inf - плюс бесконечность, -np.inf - минус бесконечность\n",
    "# loc - mu, математическое ожидание M(X)\n",
    "# scale - sigma, среднее квадратичное отклонение std(X)"
   ],
   "metadata": {
    "collapsed": false,
    "pycharm": {
     "name": "#%%\n"
    }
   }
  },
  {
   "cell_type": "code",
   "execution_count": 12,
   "outputs": [
    {
     "data": {
      "text/plain": "0.15865525393145707"
     },
     "execution_count": 12,
     "metadata": {},
     "output_type": "execute_result"
    }
   ],
   "source": [
    "# а) больше 182 см\n",
    "\n",
    "stats.norm.cdf(np.inf, loc=174, scale=8) - stats.norm.cdf(182, loc=174, scale=8)"
   ],
   "metadata": {
    "collapsed": false,
    "pycharm": {
     "name": "#%%\n"
    }
   }
  },
  {
   "cell_type": "code",
   "execution_count": 13,
   "outputs": [
    {
     "data": {
      "text/plain": "0.15865525393145707"
     },
     "execution_count": 13,
     "metadata": {},
     "output_type": "execute_result"
    }
   ],
   "source": [
    "# либо вычесть stats.norm.cdf(182, loc=174, scale=8) от 1\n",
    "\n",
    "1 - stats.norm.cdf(182, loc=174, scale=8)"
   ],
   "metadata": {
    "collapsed": false,
    "pycharm": {
     "name": "#%%\n"
    }
   }
  },
  {
   "cell_type": "code",
   "execution_count": 14,
   "outputs": [
    {
     "data": {
      "text/plain": "0.02275013194817921"
     },
     "execution_count": 14,
     "metadata": {},
     "output_type": "execute_result"
    }
   ],
   "source": [
    "# б) больше 190 см\n",
    "\n",
    "stats.norm.cdf(np.inf, loc=174, scale=8) - stats.norm.cdf(190, loc=174, scale=8)"
   ],
   "metadata": {
    "collapsed": false,
    "pycharm": {
     "name": "#%%\n"
    }
   }
  },
  {
   "cell_type": "code",
   "execution_count": 15,
   "outputs": [
    {
     "data": {
      "text/plain": "0.02275013194817921"
     },
     "execution_count": 15,
     "metadata": {},
     "output_type": "execute_result"
    }
   ],
   "source": [
    "# либо вычесть stats.norm.cdf(190, loc=174, scale=8) от 1\n",
    "\n",
    "1 - stats.norm.cdf(190, loc=174, scale=8)"
   ],
   "metadata": {
    "collapsed": false,
    "pycharm": {
     "name": "#%%\n"
    }
   }
  },
  {
   "cell_type": "code",
   "execution_count": 16,
   "outputs": [
    {
     "data": {
      "text/plain": "0.8185946141203637"
     },
     "execution_count": 16,
     "metadata": {},
     "output_type": "execute_result"
    }
   ],
   "source": [
    "# в) от 166 см до 190 см\n",
    "\n",
    "stats.norm.cdf(190, loc=174, scale=8) - stats.norm.cdf(166, loc=174, scale=8)"
   ],
   "metadata": {
    "collapsed": false,
    "pycharm": {
     "name": "#%%\n"
    }
   }
  },
  {
   "cell_type": "code",
   "execution_count": 17,
   "outputs": [
    {
     "data": {
      "text/plain": "0.6826894921370859"
     },
     "execution_count": 17,
     "metadata": {},
     "output_type": "execute_result"
    }
   ],
   "source": [
    "# г) от 166 см до 182 см\n",
    "\n",
    "stats.norm.cdf(182, loc=174, scale=8) - stats.norm.cdf(166, loc=174, scale=8)"
   ],
   "metadata": {
    "collapsed": false,
    "pycharm": {
     "name": "#%%\n"
    }
   }
  },
  {
   "cell_type": "code",
   "execution_count": 18,
   "outputs": [
    {
     "data": {
      "text/plain": "0.9544997361036416"
     },
     "execution_count": 18,
     "metadata": {},
     "output_type": "execute_result"
    }
   ],
   "source": [
    "# д) от 158 см до 190 см\n",
    "\n",
    "stats.norm.cdf(190, loc=174, scale=8) - stats.norm.cdf(158, loc=174, scale=8)"
   ],
   "metadata": {
    "collapsed": false,
    "pycharm": {
     "name": "#%%\n"
    }
   }
  },
  {
   "cell_type": "code",
   "execution_count": 19,
   "outputs": [
    {
     "data": {
      "text/plain": "0.0241000299798093"
     },
     "execution_count": 19,
     "metadata": {},
     "output_type": "execute_result"
    }
   ],
   "source": [
    "# е) не выше 150 см или не ниже 190 см\n",
    "\n",
    "stats.norm.cdf(150, loc=174, scale=8) + (1 - stats.norm.cdf(190, loc=174, scale=8))"
   ],
   "metadata": {
    "collapsed": false,
    "pycharm": {
     "name": "#%%\n"
    }
   }
  },
  {
   "cell_type": "code",
   "execution_count": 20,
   "outputs": [
    {
     "data": {
      "text/plain": "0.0026997960632601965"
     },
     "execution_count": 20,
     "metadata": {},
     "output_type": "execute_result"
    }
   ],
   "source": [
    "# ё) не выше 150 см или не ниже 198 см\n",
    "\n",
    "stats.norm.cdf(150, loc=174, scale=8) + (1 - stats.norm.cdf(198, loc=174, scale=8))"
   ],
   "metadata": {
    "collapsed": false,
    "pycharm": {
     "name": "#%%\n"
    }
   }
  },
  {
   "cell_type": "code",
   "execution_count": 21,
   "outputs": [
    {
     "data": {
      "text/plain": "0.15865525393145707"
     },
     "execution_count": 21,
     "metadata": {},
     "output_type": "execute_result"
    }
   ],
   "source": [
    "# ж) ниже 166 см\n",
    "\n",
    "stats.norm.cdf(166, loc=174, scale=8) - stats.norm.cdf(-np.inf, loc=174, scale=8)"
   ],
   "metadata": {
    "collapsed": false,
    "pycharm": {
     "name": "#%%\n"
    }
   }
  },
  {
   "cell_type": "code",
   "execution_count": 22,
   "outputs": [
    {
     "data": {
      "text/plain": "0.15865525393145707"
     },
     "execution_count": 22,
     "metadata": {},
     "output_type": "execute_result"
    }
   ],
   "source": [
    "# либо просто stats.norm.cdf(166, loc=174, scale=8)\n",
    "\n",
    "stats.norm.cdf(166, loc=174, scale=8)"
   ],
   "metadata": {
    "collapsed": false,
    "pycharm": {
     "name": "#%%\n"
    }
   }
  },
  {
   "cell_type": "markdown",
   "source": [
    "### Задача 5.\n",
    "\n",
    "#### На сколько сигм (средних квадратичных отклонений) отклоняется рост человека, равный 190 см,\n",
    "#### от математического ожидания роста в популяции, в которой M(X) = 178 см и D(X) = 25 кв. см?"
   ],
   "metadata": {
    "collapsed": false,
    "pycharm": {
     "name": "#%% md\n"
    }
   }
  },
  {
   "cell_type": "code",
   "execution_count": 23,
   "outputs": [
    {
     "data": {
      "text/plain": "(190, 178, 25)"
     },
     "execution_count": 23,
     "metadata": {},
     "output_type": "execute_result"
    }
   ],
   "source": [
    "h = 190 # рост человека\n",
    "m = 178 # математическое ожидание M(X)\n",
    "d = 25 # дисперсия D(X)\n",
    "h, m, d"
   ],
   "metadata": {
    "collapsed": false,
    "pycharm": {
     "name": "#%%\n"
    }
   }
  },
  {
   "cell_type": "code",
   "execution_count": 24,
   "outputs": [
    {
     "data": {
      "text/plain": "5.0"
     },
     "execution_count": 24,
     "metadata": {},
     "output_type": "execute_result"
    }
   ],
   "source": [
    "# найдём среднее квадратичное отклонение std(X)\n",
    "\n",
    "sigma = np.sqrt(d) # среднее квадратичное отклонение std(X)\n",
    "sigma"
   ],
   "metadata": {
    "collapsed": false,
    "pycharm": {
     "name": "#%%\n"
    }
   }
  },
  {
   "cell_type": "code",
   "execution_count": 25,
   "outputs": [
    {
     "data": {
      "text/plain": "2.4"
     },
     "execution_count": 25,
     "metadata": {},
     "output_type": "execute_result"
    }
   ],
   "source": [
    "# определить, на сколько сигм (средних квадратичных отклонений) отклоняется рост человека, поможет нормированное отклонение\n",
    "\n",
    "t = (h - m) / sigma # нормированное отклонение\n",
    "t"
   ],
   "metadata": {
    "collapsed": false,
    "pycharm": {
     "name": "#%%\n"
    }
   }
  },
  {
   "cell_type": "code",
   "execution_count": 26,
   "outputs": [
    {
     "name": "stdout",
     "output_type": "stream",
     "text": [
      "Рост человека, равный 190 см, отклоняется на 2.4 сигм (средних квадратичных отклонений) от M(X) = 178 с D(X) = 25\n"
     ]
    }
   ],
   "source": [
    "print(f'Рост человека, равный {h} см, отклоняется на {t} сигм (средних квадратичных отклонений) от M(X) = {m} с D(X) = {d}')"
   ],
   "metadata": {
    "collapsed": false,
    "pycharm": {
     "name": "#%%\n"
    }
   }
  },
  {
   "cell_type": "code",
   "execution_count": 26,
   "outputs": [],
   "source": [],
   "metadata": {
    "collapsed": false,
    "pycharm": {
     "name": "#%%\n"
    }
   }
  }
 ],
 "metadata": {
  "kernelspec": {
   "display_name": "Python 3",
   "language": "python",
   "name": "python3"
  },
  "language_info": {
   "codemirror_mode": {
    "name": "ipython",
    "version": 2
   },
   "file_extension": ".py",
   "mimetype": "text/x-python",
   "name": "python",
   "nbconvert_exporter": "python",
   "pygments_lexer": "ipython2",
   "version": "2.7.6"
  }
 },
 "nbformat": 4,
 "nbformat_minor": 0
}